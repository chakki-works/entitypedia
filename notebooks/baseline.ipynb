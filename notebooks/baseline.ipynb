{
 "cells": [
  {
   "cell_type": "code",
   "execution_count": 10,
   "metadata": {},
   "outputs": [
    {
     "name": "stdout",
     "output_type": "stream",
     "text": [
      "Loading dataset...\n"
     ]
    },
    {
     "name": "stdout",
     "output_type": "stream",
     "text": [
      "Loaded!\n"
     ]
    }
   ],
   "source": [
    "import csv\n",
    "import os\n",
    "from collections import defaultdict\n",
    "\n",
    "from sklearn.feature_extraction.text import TfidfVectorizer, CountVectorizer\n",
    "from sklearn.svm import LinearSVC\n",
    "from sklearn.model_selection import train_test_split\n",
    "from sklearn.metrics import classification_report, f1_score\n",
    "from scipy.sparse import hstack\n",
    "\n",
    "from entitypedia.classifier.preprocess import extract_abstract, tokenize, remove_tags, extract_categories\n",
    "from entitypedia.corpora.datasets import DocumentClassifierDataset\n",
    "\n",
    "\n",
    "def load_dataset(wiki_dir, seed_ids, categories, seed_dir):\n",
    "    X, y = [], []\n",
    "    cats = []\n",
    "    dataset = DocumentClassifierDataset(wiki_dir, seed_dir=seed_dir)\n",
    "    for j in dataset.create_prediction_set():\n",
    "        id = j['id']\n",
    "        if id not in seed_ids:\n",
    "            continue\n",
    "        try:\n",
    "            text = extract_abstract(j['text'])\n",
    "        except IndexError:\n",
    "            continue\n",
    "        text = remove_tags(text)\n",
    "        X.append(text)\n",
    "        cats.append(' '.join(categories[id]))\n",
    "        y.append(seed_ids[id])\n",
    "        \n",
    "    return X, cats, y\n",
    "\n",
    "\n",
    "def load_prediction_dataset(wiki_dir, seed_ids, categories, seed_dir):\n",
    "    X, titles = [], []\n",
    "    cats = []\n",
    "    dataset = DocumentClassifierDataset(wiki_dir, seed_dir=seed_dir)\n",
    "    for j in dataset.create_prediction_set():\n",
    "        id = j['id']\n",
    "        if id in seed_ids:\n",
    "            continue\n",
    "        try:\n",
    "            text = extract_abstract(j['text'])\n",
    "        except IndexError:\n",
    "            continue\n",
    "        text = remove_tags(text)\n",
    "        X.append(text)\n",
    "        cats.append(' '.join(categories[id]))\n",
    "        titles.append(j['title'])\n",
    "        \n",
    "    return X, cats, titles\n",
    "\n",
    "\n",
    "def load_categories(file_path):\n",
    "    with open(file_path) as f:\n",
    "        lines = [line.strip().split('\\t') for line in f]\n",
    "    ids, cats = [], []\n",
    "    for row in lines:\n",
    "        ids.append(row[0])\n",
    "        cats.append(row[1])\n",
    "    cats = extract_categories(cats)\n",
    "    res = defaultdict(list)\n",
    "    for id, cat in zip(ids, cats):\n",
    "        res[id].append(cat)\n",
    "\n",
    "    return res\n",
    "\n",
    "\n",
    "def load_seed(file_path):\n",
    "    seeds = {}\n",
    "    with open(file_path) as f:\n",
    "        reader = csv.reader(f)\n",
    "        for row in reader:\n",
    "            label, title, id = row\n",
    "            seeds[id] = label\n",
    "    return seeds\n",
    "\n",
    "\n",
    "BASE_DIR = 'data/'\n",
    "seed_file = os.path.join(BASE_DIR, 'interim/seeds.csv')\n",
    "wiki_dir = os.path.join(BASE_DIR, 'extracted')\n",
    "category_file = os.path.join(BASE_DIR, 'raw/categories.tsv')\n",
    "seed_dir = os.path.join(BASE_DIR, 'raw/seeds')\n",
    "\n",
    "\n",
    "print('Loading dataset...')\n",
    "categories = load_categories(category_file)\n",
    "seeds = load_seed(seed_file)\n",
    "X, cats, y = load_dataset(wiki_dir, seeds, categories, seed_dir)\n",
    "X_predict, cats_predict, titles = load_prediction_dataset(wiki_dir, seeds, categories, seed_dir)\n",
    "print('Loaded!')"
   ]
  },
  {
   "cell_type": "markdown",
   "metadata": {},
   "source": [
    "## ベースラインモデルの作成\n",
    "まずはベースラインモデルを作成する。ここでは、各文書をBoWで表し、TF-IDF値に変換する。これをモデルへの入力とする。"
   ]
  },
  {
   "cell_type": "code",
   "execution_count": 48,
   "metadata": {},
   "outputs": [
    {
     "name": "stdout",
     "output_type": "stream",
     "text": [
      "Vectorizing...\n"
     ]
    },
    {
     "name": "stdout",
     "output_type": "stream",
     "text": [
      "Fitting...\n"
     ]
    },
    {
     "name": "stdout",
     "output_type": "stream",
     "text": [
      "Predicting...\nEvaluating...\n0.9443535188216039\n0.932514614160318\n0.9995449995449995\n"
     ]
    },
    {
     "name": "stdout",
     "output_type": "stream",
     "text": [
      "0.9994520179000747\n                                                                  precision    recall  f1-score   support\n\n                                               color/color_other      1.000     1.000     1.000         6\n                                                         concept      0.500     0.333     0.400         9\n                                          disease/animal_disease      0.857     0.857     0.857         7\n                                               event/event_other      0.875     1.000     0.933         7\n                                   event/incident/incident_other      1.000     1.000     1.000        12\n                                              event/incident/war      1.000     1.000     1.000         8\n                             event/natural_phenomenon/earthquake      1.000     1.000     1.000         8\n                       event/natural_phenomenon/natural_disaster      1.000     1.000     1.000        13\n               event/natural_phenomenon/natural_phenomenon_other      1.000     1.000     1.000         9\n                                       event/occasion/conference      1.000     1.000     1.000         9\n                                             event/occasion/game      1.000     0.875     0.933         8\n                                   event/occasion/occation_other      1.000     0.933     0.966        15\n                               event/occasion/religious_festival      1.000     1.000     1.000         6\n        facility/archaeological_place/archaeological_place_other      0.923     1.000     0.960        12\n                           facility/archaeological_place/tumulus      1.000     1.000     1.000        12\n                                         facility/facility_other      0.857     0.857     0.857         7\n                                            facility/goe/airport      1.000     1.000     1.000         5\n                                     facility/goe/amusement_park      1.000     0.750     0.857         4\n                                           facility/goe/car_stop      0.923     1.000     0.960        12\n                                          facility/goe/goe_other      0.667     1.000     0.800         6\n                                             facility/goe/market      0.917     0.917     0.917        12\n                                             facility/goe/museum      1.000     1.000     1.000         6\n                                               facility/goe/park      0.900     1.000     0.947         9\n                                               facility/goe/port      0.917     1.000     0.957        11\n                                 facility/goe/public_institution      0.889     1.000     0.941         8\n                                 facility/goe/research_institute      0.909     0.909     0.909        11\n                                             facility/goe/school      1.000     1.000     1.000        10\n                                    facility/goe/sports_facility      0.909     1.000     0.952        10\n                                            facility/goe/station      1.000     1.000     1.000         9\n                                            facility/goe/theater      1.000     1.000     1.000         2\n                                      facility/goe/worship_place      1.000     1.000     1.000        12\n                                                facility/goe/zoo      1.000     0.667     0.800         3\n                                            facility/line/bridge      0.933     1.000     0.966        14\n                                             facility/line/canal      1.000     1.000     1.000        12\n                                        facility/line/line_other      1.000     1.000     1.000         6\n                                          facility/line/railroad      1.000     0.933     0.966        15\n                                              facility/line/road      0.917     1.000     0.957        11\n                                            facility/line/tunnel      1.000     1.000     1.000         5\n                                  location/address/address_other      1.000     1.000     1.000        10\n                          location/astral_body/astral_body_other      1.000     0.889     0.941         9\n                              location/astral_body/constellation      1.000     1.000     1.000        10\n                                     location/astral_body/planet      1.000     0.929     0.963        14\n                                       location/astral_body/star      0.889     1.000     0.941         8\n                                  location/geological_region/bay      0.857     0.857     0.857         7\n              location/geological_region/geological_region_other      1.000     1.000     1.000         4\n                               location/geological_region/island      0.800     0.800     0.800         5\n                                 location/geological_region/lake      1.000     1.000     1.000         8\n                             location/geological_region/mountain      1.000     1.000     1.000         6\n                                location/geological_region/river      1.000     1.000     1.000        14\n                                  location/geological_region/sea      1.000     1.000     1.000        10\n                                               location/gpe/city      0.889     1.000     0.941         8\n                                            location/gpe/country      1.000     0.857     0.923         7\n                                             location/gpe/county      1.000     1.000     1.000         8\n                                          location/gpe/gpe_other      1.000     0.667     0.800         3\n                                           location/gpe/province      0.889     1.000     0.941         8\n                                         location/location_other      1.000     0.889     0.941         9\n                              location/region/continental_region      0.909     1.000     0.952        10\n                                 location/region/domestic_region      1.000     1.000     1.000        11\n                                                    location/spa      1.000     1.000     1.000        13\n                                                  name/character      1.000     1.000     1.000         8\n                                                        name/god      0.889     1.000     0.941         8\n                                                 name/name_other      1.000     1.000     1.000         8\n                                                     name/person      0.900     1.000     0.947         9\n                                         natural_object/compound      1.000     1.000     1.000        14\n                                          natural_object/element      1.000     1.000     1.000        14\n                            natural_object/living_thing/amphibia      0.944     1.000     0.971        17\n                                natural_object/living_thing/bird      1.000     1.000     1.000        10\n                                natural_object/living_thing/fish      0.857     0.750     0.800         8\n                               natural_object/living_thing/flora      1.000     0.923     0.960        13\n                              natural_object/living_thing/fungus      1.000     1.000     1.000        12\n                              natural_object/living_thing/insect      0.917     0.846     0.880        13\n                  natural_object/living_thing/living_thing_other      0.857     0.667     0.750         9\n                              natural_object/living_thing/mammal      0.833     1.000     0.909         5\n                   natural_object/living_thing/mollusc_arthropod      0.714     0.833     0.769         6\n                             natural_object/living_thing/reptile      1.000     1.000     1.000         7\n                                          natural_object/mineral      0.875     0.875     0.875         8\n                             natural_object/natural_object_other      1.000     1.000     1.000         7\n                                organization/corporation/company      0.857     0.667     0.750         9\n                          organization/corporation/company_group      1.000     1.000     1.000         7\n                      organization/corporation/corporation_other      0.900     1.000     0.947         9\n                    organization/ethnic_group/ethnic_group_other      1.000     0.889     0.941         9\n                           organization/ethnic_group/nationality      0.800     1.000     0.889         4\n                                             organization/family      1.000     1.000     1.000        17\n                         organization/international_organization      1.000     1.000     1.000        11\n                                 organization/organization_other      1.000     1.000     1.000        13\n                     organization/political_organization/cabinet      0.889     1.000     0.941         8\n                  organization/political_organization/government      1.000     0.333     0.500         3\n                    organization/political_organization/military      1.000     1.000     1.000        10\norganization/political_organization/political_organization_other      0.750     1.000     0.857         6\n             organization/political_organization/political_party      1.000     0.875     0.933         8\n                                  organization/show_organization      1.000     1.000     1.000        12\n        organization/sports_organization/pro_sports_organization      1.000     1.000     1.000         8\n                  organization/sports_organization/sports_league      0.857     1.000     0.923         6\n      organization/sports_organization/sports_organization_other      1.000     1.000     1.000        14\n                                           product/art/art_other      1.000     0.778     0.875         9\n                                                product/art/book      0.875     0.778     0.824         9\n                                   product/art/broadcast_program      0.778     1.000     0.875         7\n                                               product/art/movie      1.000     1.000     1.000         7\n                                               product/art/music      1.000     0.923     0.960        13\n                                             product/art/picture      0.875     1.000     0.933         7\n                                                   product/award      1.000     0.900     0.947        10\n                                                   product/class      1.000     1.000     1.000         4\n                                                product/clothing      1.000     0.923     0.960        13\n                                              product/decoration      1.000     1.000     1.000         8\n                                product/doctrine_method/academic      0.818     1.000     0.900         9\n                                 product/doctrine_method/culture      1.000     1.000     1.000         2\n                                product/doctrine_method/movement      0.917     0.917     0.917        12\n                                    product/doctrine_method/plan      0.667     0.667     0.667         3\n                                product/doctrine_method/religion      0.875     0.875     0.875         8\n                                   product/doctrine_method/sport      1.000     0.875     0.933         8\n                                   product/doctrine_method/style      1.000     0.917     0.957        12\n                                  product/doctrine_method/theory      1.000     0.917     0.957        12\n                                                    product/drug      1.000     1.000     1.000         8\n                                               product/food/dish      0.750     0.600     0.667         5\n                                         product/food/food_other      1.000     1.000     1.000         4\n                                 product/language/language_other      0.800     0.400     0.533        10\n                              product/language/national_language      0.444     1.000     0.615         4\n                                              product/money_form      1.000     0.875     0.933         8\n                                                 product/offense      1.000     1.000     1.000         5\n                                       product/printing/magazine      1.000     1.000     1.000         7\n                                      product/printing/newspaper      1.000     1.000     1.000         9\n                                                product/rule/law      0.941     1.000     0.970        16\n                                         product/rule/rule_other      1.000     1.000     1.000         6\n                                             product/rule/treaty      1.000     0.923     0.960        13\n                                 product/title/position_vocation      1.000     1.000     1.000        11\n                                       product/title/title_other      1.000     1.000     1.000         2\n                                           product/unit/currency      1.000     0.889     0.941         9\n                                         product/unit/unit_other      0.857     1.000     0.923         6\n                                        product/vehicle/aircraft      0.857     1.000     0.923        12\n                                             product/vehicle/car      0.923     1.000     0.960        12\n                                            product/vehicle/ship      0.857     0.923     0.889        13\n                                       product/vehicle/spaceship      0.938     1.000     0.968        15\n                                           product/vehicle/train      1.000     1.000     1.000         3\n                                   product/vehicle/vehicle_other      1.000     1.000     1.000        12\n                                                  product/weapon      0.800     0.500     0.615         8\n                                                      timex/date      1.000     1.000     1.000         7\n                                                       timex/era      0.917     1.000     0.957        11\n\n                                                     avg / total      0.948     0.944     0.942      1222\n\n"
     ]
    }
   ],
   "source": [
    "from sklearn.linear_model import LogisticRegression\n",
    "from sklearn.ensemble import RandomForestClassifier\n",
    "\n",
    "print('Vectorizing...')\n",
    "vectorizer = TfidfVectorizer(tokenizer=tokenize, max_features=10000)\n",
    "x_vec = vectorizer.fit_transform(X)\n",
    "category_vectorizer = CountVectorizer()\n",
    "cat_vec = category_vectorizer.fit_transform(cats)\n",
    "x_vec = hstack([x_vec, cat_vec])\n",
    "\n",
    "x_train, x_test, y_train, y_test = train_test_split(x_vec, y, test_size=0.1, random_state=42)\n",
    "\n",
    "print('Fitting...')\n",
    "clf = LinearSVC()\n",
    "clf.fit(x_train, y_train)\n",
    "\n",
    "print('Predicting...')\n",
    "y_pred = clf.predict(x_test)\n",
    "y_pred_train = clf.predict(x_train)\n",
    "\n",
    "print('Evaluating...')\n",
    "print(f1_score(y_test, y_pred, average='micro'))\n",
    "print(f1_score(y_test, y_pred, average='macro'))\n",
    "print(f1_score(y_train, y_pred_train, average='micro'))\n",
    "print(f1_score(y_train, y_pred_train, average='macro'))\n",
    "print(classification_report(y_test, y_pred, digits=3))"
   ]
  },
  {
   "cell_type": "markdown",
   "metadata": {},
   "source": [
    "分類のモデルにはロジスティック回帰を用いる。ここで、正則化にはL1正則化を用いる。ストップワードの除去を期待できるからである。"
   ]
  },
  {
   "cell_type": "code",
   "execution_count": 49,
   "metadata": {},
   "outputs": [
    {
     "data": {
      "text/plain": [
       "CalibratedClassifierCV(base_estimator=LinearSVC(C=1.0, class_weight=None, dual=True, fit_intercept=True,\n     intercept_scaling=1, loss='squared_hinge', max_iter=1000,\n     multi_class='ovr', penalty='l2', random_state=None, tol=0.0001,\n     verbose=0),\n            cv=3, method='sigmoid')"
      ]
     },
     "execution_count": 49,
     "metadata": {},
     "output_type": "execute_result"
    }
   ],
   "source": [
    "from sklearn.calibration import CalibratedClassifierCV\n",
    "\n",
    "base_estimator = LinearSVC()\n",
    "clf = CalibratedClassifierCV(base_estimator)\n",
    "clf.fit(x_train, y_train)\n"
   ]
  },
  {
   "cell_type": "markdown",
   "metadata": {},
   "source": [
    "学習が完了したら、テストデータに対して予測を行う。"
   ]
  },
  {
   "cell_type": "code",
   "execution_count": 50,
   "metadata": {},
   "outputs": [
    {
     "data": {
      "text/plain": [
       "0.9418985270049101"
      ]
     },
     "execution_count": 50,
     "metadata": {},
     "output_type": "execute_result"
    }
   ],
   "source": [
    "y_pred = clf.predict(x_test)\n",
    "f1_score(y_test, y_pred, average='micro')\n",
    "#y_pred = clf.predict_proba(x_test)\n",
    "#len([y for y in y_pred if max(y) < 0.7])"
   ]
  },
  {
   "cell_type": "markdown",
   "metadata": {},
   "source": [
    "最後に、予測したデータと正解データを用いて評価を行う。評価にはF1を用いる。"
   ]
  },
  {
   "cell_type": "code",
   "execution_count": 5,
   "metadata": {},
   "outputs": [
    {
     "name": "stdout",
     "output_type": "stream",
     "text": [
      "0.9518981516987499\n"
     ]
    },
    {
     "name": "stdout",
     "output_type": "stream",
     "text": [
      "0.8954278457630136\n"
     ]
    },
    {
     "name": "stderr",
     "output_type": "stream",
     "text": [
      "/Users/smap4/VirtualEnv/entitypediaVenv/lib/python3.6/site-packages/sklearn/metrics/classification.py:1135: UndefinedMetricWarning: F-score is ill-defined and being set to 0.0 in labels with no predicted samples.\n  'precision', 'predicted', average, warn_for)\n"
     ]
    }
   ],
   "source": [
    "print(f1_score(y_test, y_pred, average='micro'))\n",
    "print(f1_score(y_test, y_pred, average='macro'))"
   ]
  },
  {
   "cell_type": "markdown",
   "metadata": {},
   "source": [
    "classification_reportを用いて、各カテゴリごとの評価を表示する。"
   ]
  },
  {
   "cell_type": "code",
   "execution_count": 6,
   "metadata": {},
   "outputs": [
    {
     "name": "stdout",
     "output_type": "stream",
     "text": [
      "                                                                  precision    recall  f1-score   support\n\n                                               color/color_other      0.893     0.926     0.909        54\n                                              color/nature_color      0.000     0.000     0.000         2\n                                                         concept      0.804     0.752     0.778       525\n                                          disease/animal_disease      0.909     0.918     0.914        98\n                                           disease/disease_other      1.000     0.727     0.842        11\n                                               event/event_other      0.987     0.982     0.984       226\n                                   event/incident/incident_other      0.952     0.994     0.973       179\n                                              event/incident/war      0.977     0.995     0.986       633\n                             event/natural_phenomenon/earthquake      0.935     0.983     0.959        59\n                       event/natural_phenomenon/natural_disaster      1.000     0.973     0.986        75\n               event/natural_phenomenon/natural_phenomenon_other      0.929     0.929     0.929        14\n                                       event/occasion/conference      0.867     0.929     0.897        28\n                                             event/occasion/game      0.973     0.992     0.983       663\n                                   event/occasion/occation_other      0.944     0.872     0.907        39\n                               event/occasion/religious_festival      0.968     0.981     0.974       214\n        facility/archaeological_place/archaeological_place_other      0.971     0.971     0.971       453\n                           facility/archaeological_place/tumulus      0.994     1.000     0.997       159\n                                         facility/facility_other      0.763     0.763     0.763       308\n                                            facility/goe/airport      0.965     0.995     0.980       412\n                                     facility/goe/amusement_park      0.910     0.812     0.858       223\n                                           facility/goe/car_stop      0.970     0.993     0.981       561\n                                          facility/goe/goe_other      0.952     0.968     0.960       697\n                                             facility/goe/market      0.951     0.951     0.951        41\n                                             facility/goe/museum      0.929     0.900     0.914       782\n                                               facility/goe/park      0.878     0.941     0.909       307\n                                               facility/goe/port      0.961     0.990     0.975        99\n                                 facility/goe/public_institution      0.988     0.993     0.990      1218\n                                 facility/goe/research_institute      0.878     0.878     0.878       197\n                                             facility/goe/school      0.970     0.985     0.978      3283\n                                    facility/goe/sports_facility      0.963     0.968     0.966       571\n                                            facility/goe/station      0.995     0.996     0.995      2941\n                                            facility/goe/theater      0.828     0.797     0.812       187\n                                      facility/goe/worship_place      0.972     0.966     0.969      1353\n                                                facility/goe/zoo      0.914     0.727     0.810       161\n                                            facility/line/bridge      0.955     0.983     0.969       544\n                                             facility/line/canal      0.889     0.889     0.889        27\n                                        facility/line/line_other      0.800     1.000     0.889        24\n                                          facility/line/railroad      0.953     0.941     0.947       473\n                                              facility/line/road      0.989     0.997     0.993      2725\n                                            facility/line/tunnel      0.992     0.970     0.981       134\n                                  location/address/address_other      1.000     0.951     0.975        82\n                          location/astral_body/astral_body_other      0.971     0.971     0.971       210\n                              location/astral_body/constellation      0.960     1.000     0.980        24\n                                     location/astral_body/planet      0.978     0.957     0.968        94\n                                       location/astral_body/star      0.984     0.981     0.983       259\n                                  location/geological_region/bay      0.957     0.917     0.936        72\n              location/geological_region/geological_region_other      0.935     0.888     0.911       277\n                               location/geological_region/island      0.912     0.944     0.928       286\n                                 location/geological_region/lake      0.953     0.976     0.964       167\n                             location/geological_region/mountain      0.972     0.978     0.975       929\n                                location/geological_region/river      0.987     0.992     0.990       713\n                                  location/geological_region/sea      0.911     0.879     0.895        58\n                                               location/gpe/city      0.961     0.975     0.968      4997\n                                            location/gpe/country      0.820     0.927     0.870       123\n                                             location/gpe/county      0.992     0.992     0.992       124\n                                          location/gpe/gpe_other      1.000     0.111     0.200         9\n                                           location/gpe/province      0.910     0.936     0.923       652\n                                         location/location_other      0.999     0.983     0.991       743\n                              location/region/continental_region      0.938     0.789     0.857        19\n                                 location/region/domestic_region      0.972     0.908     0.939       153\n                                                    location/spa      0.968     0.991     0.979       333\n                                                  name/character      0.902     0.797     0.846        69\n                                                        name/god      0.889     0.940     0.913       281\n                                                 name/name_other      0.982     0.983     0.983       946\n                                                     name/person      0.953     0.986     0.969      3020\n                                         natural_object/compound      0.918     0.932     0.925       705\n                                          natural_object/element      0.971     0.971     0.971        35\n                            natural_object/living_thing/amphibia      1.000     1.000     1.000        59\n                                natural_object/living_thing/bird      0.988     0.994     0.991       499\n                                natural_object/living_thing/fish      0.964     0.973     0.968       221\n                               natural_object/living_thing/flora      0.956     0.988     0.972       887\n                              natural_object/living_thing/fungus      1.000     0.915     0.956        71\n                              natural_object/living_thing/insect      0.913     0.935     0.924       247\n                  natural_object/living_thing/living_thing_other      0.899     0.802     0.848       222\n                              natural_object/living_thing/mammal      0.957     0.974     0.966       346\n                   natural_object/living_thing/mollusc_arthropod      0.942     0.860     0.899       207\n                             natural_object/living_thing/reptile      0.980     0.990     0.985       197\n                                          natural_object/mineral      0.920     0.805     0.859       215\n                             natural_object/natural_object_other      0.917     0.917     0.917        12\n                                organization/corporation/company      0.946     0.944     0.945      2946\n                          organization/corporation/company_group      0.907     0.574     0.703        68\n                      organization/corporation/corporation_other      0.923     0.927     0.925       400\n                    organization/ethnic_group/ethnic_group_other      0.879     0.910     0.894       255\n                           organization/ethnic_group/nationality      0.000     0.000     0.000        17\n                                             organization/family      0.960     0.997     0.978       287\n                         organization/international_organization      0.887     0.758     0.817        62\n                                 organization/organization_other      0.962     0.981     0.971        52\n                     organization/political_organization/cabinet      0.972     1.000     0.986        35\n                  organization/political_organization/government      0.945     0.927     0.936       673\n                    organization/political_organization/military      0.966     0.944     0.955        90\norganization/political_organization/political_organization_other      0.888     0.869     0.878       191\n             organization/political_organization/political_party      0.952     0.952     0.952       250\n                                  organization/show_organization      0.960     0.969     0.964      1308\n        organization/sports_organization/pro_sports_organization      0.973     0.886     0.927       519\n                  organization/sports_organization/sports_league      0.906     0.762     0.828        63\n      organization/sports_organization/sports_organization_other      0.973     0.993     0.983       143\n                                           product/art/art_other      0.906     0.829     0.866        35\n                                                product/art/book      0.868     0.947     0.906      2170\n                                   product/art/broadcast_program      0.970     0.947     0.958      3066\n                                               product/art/movie      0.963     0.940     0.952      3022\n                                               product/art/music      0.989     0.987     0.988      2901\n                                             product/art/picture      0.967     0.922     0.944        64\n                                                   product/award      0.975     0.987     0.981       155\n                                                   product/class      1.000     1.000     1.000         8\n                                                product/clothing      0.938     0.909     0.923        99\n                                              product/decoration      0.966     1.000     0.982        28\n                                product/doctrine_method/academic      0.907     0.936     0.922       220\n                                 product/doctrine_method/culture      0.778     0.538     0.636        13\n                                product/doctrine_method/movement      0.870     0.887     0.879        53\n                                    product/doctrine_method/plan      0.902     0.810     0.854       137\n                                product/doctrine_method/religion      0.829     0.967     0.892        30\n                                   product/doctrine_method/sport      0.892     0.795     0.841        73\n                                   product/doctrine_method/style      0.962     0.971     0.967       105\n                                  product/doctrine_method/theory      0.966     0.836     0.896        67\n                                                    product/drug      0.873     0.830     0.850       264\n                                               product/food/dish      0.857     0.316     0.462        19\n                                         product/food/food_other      0.938     0.889     0.913       135\n                                 product/language/language_other      0.854     0.927     0.889       342\n                              product/language/national_language      0.606     0.299     0.400        67\n                                              product/money_form      0.977     1.000     0.988        42\n                                                 product/offense      1.000     0.839     0.912        31\n                                       product/printing/magazine      0.961     0.966     0.963       232\n                                      product/printing/newspaper      0.839     0.904     0.870        52\n                                                product/rule/law      0.975     0.963     0.969       407\n                                         product/rule/rule_other      1.000     0.935     0.967        31\n                                             product/rule/treaty      0.926     0.955     0.940        66\n                                 product/title/position_vocation      0.851     0.712     0.775       177\n                                       product/title/title_other      1.000     0.583     0.737        12\n                                           product/unit/currency      1.000     0.967     0.983        30\n                                         product/unit/unit_other      0.866     0.879     0.872        66\n                                        product/vehicle/aircraft      0.836     0.909     0.871       405\n                                             product/vehicle/car      0.968     0.987     0.977       519\n                                            product/vehicle/ship      0.856     0.765     0.808       481\n                                       product/vehicle/spaceship      0.945     0.932     0.939        74\n                                           product/vehicle/train      0.990     0.971     0.981       104\n                                   product/vehicle/vehicle_other      0.964     0.982     0.973       109\n                                                  product/weapon      0.915     0.888     0.901      2293\n                                                      timex/date      0.996     0.945     0.970       275\n                                               timex/day_of_week      0.000     0.000     0.000         1\n                                                       timex/era      1.000     0.978     0.989        93\n\n                                                     avg / total      0.952     0.952     0.951     65195\n\n"
     ]
    },
    {
     "name": "stderr",
     "output_type": "stream",
     "text": [
      "/Users/smap4/VirtualEnv/entitypediaVenv/lib/python3.6/site-packages/sklearn/metrics/classification.py:1135: UndefinedMetricWarning: Precision and F-score are ill-defined and being set to 0.0 in labels with no predicted samples.\n  'precision', 'predicted', average, warn_for)\n"
     ]
    }
   ],
   "source": [
    "print(classification_report(y_test, y_pred, digits=3))"
   ]
  },
  {
   "cell_type": "markdown",
   "metadata": {},
   "source": [
    "学習曲線を描くための関数を定義する"
   ]
  },
  {
   "cell_type": "code",
   "execution_count": 39,
   "metadata": {},
   "outputs": [],
   "source": [
    "import numpy as np\n",
    "import matplotlib.pyplot as plt\n",
    "from sklearn.model_selection import learning_curve\n",
    "from sklearn.model_selection import ShuffleSplit\n",
    "\n",
    "\n",
    "def plot_learning_curve(estimator, title, X, y, ylim=None, cv=None,\n",
    "                        n_jobs=-1, train_sizes=np.linspace(.1, 1.0, 5)):\n",
    "    plt.figure()\n",
    "    plt.title(title)\n",
    "    if ylim is not None:\n",
    "        plt.ylim(*ylim)\n",
    "    plt.xlabel(\"Training examples\")\n",
    "    plt.ylabel(\"Score\")\n",
    "    train_sizes, train_scores, test_scores = learning_curve(\n",
    "        estimator, X, y, cv=cv, n_jobs=n_jobs, train_sizes=train_sizes)\n",
    "    train_scores_mean = np.mean(train_scores, axis=1)\n",
    "    train_scores_std = np.std(train_scores, axis=1)\n",
    "    test_scores_mean = np.mean(test_scores, axis=1)\n",
    "    test_scores_std = np.std(test_scores, axis=1)\n",
    "    plt.grid()\n",
    "\n",
    "    plt.fill_between(train_sizes, train_scores_mean - train_scores_std,\n",
    "                     train_scores_mean + train_scores_std, alpha=0.1,\n",
    "                     color=\"r\")\n",
    "    plt.fill_between(train_sizes, test_scores_mean - test_scores_std,\n",
    "                     test_scores_mean + test_scores_std, alpha=0.1, color=\"g\")\n",
    "    plt.plot(train_sizes, train_scores_mean, 'o-', color=\"r\",\n",
    "             label=\"Training score\")\n",
    "    plt.plot(train_sizes, test_scores_mean, 'o-', color=\"g\",\n",
    "             label=\"Cross-validation score\")\n",
    "\n",
    "    plt.legend(loc=\"best\")\n",
    "\n",
    "    return plt"
   ]
  },
  {
   "cell_type": "markdown",
   "metadata": {},
   "source": [
    "実際に学習曲線を描いてみる。"
   ]
  },
  {
   "cell_type": "code",
   "execution_count": 42,
   "metadata": {},
   "outputs": [
    {
     "data": {
      "image/png": "[encoded data removed]",
      "text/plain": [
       "<matplotlib.figure.Figure at 0x1a7fb62b0>"
      ]
     },
     "metadata": {},
     "output_type": "display_data"
    }
   ],
   "source": [
    "title = \"Learning Curves\"\n",
    "cv = ShuffleSplit(n_splits=10, test_size=0.1, random_state=0)\n",
    "estimator = LinearSVC()\n",
    "plot_learning_curve(estimator, title, x_vec, y, cv=cv)\n",
    "\n",
    "plt.show()"
   ]
  },
  {
   "cell_type": "markdown",
   "metadata": {},
   "source": [
    "学習スコアと検証スコアに若干(1%くらい?)の差がある。"
   ]
  },
  {
   "cell_type": "code",
   "execution_count": null,
   "metadata": {},
   "outputs": [],
   "source": [
    "base_estimator = LinearSVC()\n",
    "clf = CalibratedClassifierCV(base_estimator)\n",
    "clf.fit(x_vec, y)"
   ]
  },
  {
   "cell_type": "code",
   "execution_count": null,
   "metadata": {},
   "outputs": [],
   "source": [
    "x_pred = vectorizer.transform(X_predict)\n",
    "cats_pred = category_vectorizer.transform(cats_predict)\n",
    "x_pred = hstack([x_pred, cats_pred])\n",
    "y_pred = clf.predict(x_pred)\n",
    "# y_prob = clf.predict_proba(x_pred)"
   ]
  }
 ],
 "metadata": {
  "kernelspec": {
   "display_name": "Python 3",
   "language": "python",
   "name": "python3"
  },
  "language_info": {
   "codemirror_mode": {
    "name": "ipython",
    "version": 3
   },
   "file_extension": ".py",
   "mimetype": "text/x-python",
   "name": "python",
   "nbconvert_exporter": "python",
   "pygments_lexer": "ipython3",
   "version": "3.6.4"
  }
 },
 "nbformat": 4,
 "nbformat_minor": 0
}
