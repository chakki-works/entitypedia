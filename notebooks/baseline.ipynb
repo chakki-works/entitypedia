{
 "cells": [
  {
   "cell_type": "code",
   "execution_count": 2,
   "metadata": {},
   "outputs": [],
   "source": [
    "import json\n",
    "import os\n",
    "\n",
    "import MeCab\n",
    "from bs4 import BeautifulSoup\n",
    "from sklearn.model_selection import train_test_split\n",
    "from sklearn.metrics import classification_report, f1_score\n",
    "from sklearn.feature_extraction.text import TfidfVectorizer\n",
    "from sklearn.linear_model import LogisticRegression\n",
    "t = MeCab.Tagger('-Owakati')\n",
    "\n",
    "\n",
    "def tokenize(text):\n",
    "    words = t.parse(text).rstrip().split()\n",
    "\n",
    "    return words\n",
    "\n",
    "\n",
    "def load_jsonl(jsonl_file):\n",
    "    with open(jsonl_file) as f:\n",
    "        for line in f:\n",
    "            j = json.loads(line)\n",
    "            yield j\n",
    "\n",
    "\n",
    "def remove_tags(html):\n",
    "    soup = BeautifulSoup(html, 'html.parser')\n",
    "    text = soup.get_text()\n",
    "\n",
    "    return text\n",
    "\n",
    "\n",
    "def load_dataset(jsonl_file):\n",
    "    X, y = [], []\n",
    "    for j in load_jsonl(jsonl_file):\n",
    "        text = remove_tags(j['text'])\n",
    "        X.append(text)\n",
    "        y.append(j['label'])\n",
    "\n",
    "    return X, y\n",
    "\n",
    "\n",
    "filename = './data/interim/dataset.jsonl'\n",
    "test_size = 0.3\n",
    "\n",
    "# Load datasets.\n",
    "X, y = load_dataset(jsonl_file=filename)\n",
    "\n",
    "x_train, x_test, y_train, y_test = train_test_split(X, y, test_size=test_size, random_state=42)"
   ]
  },
  {
   "cell_type": "markdown",
   "metadata": {},
   "source": [
    "## ベースラインモデルの作成\n",
    "まずはベースラインモデルを作成する。ここでは、各文書をBoWで表し、TF-IDF値に変換する。これをモデルへの入力とする。"
   ]
  },
  {
   "cell_type": "code",
   "execution_count": 3,
   "metadata": {},
   "outputs": [],
   "source": [
    "vectorizer = TfidfVectorizer(tokenizer=tokenize, analyzer='word')\n",
    "X_train = vectorizer.fit_transform(x_train)\n",
    "X_test = vectorizer.transform(x_test)"
   ]
  },
  {
   "cell_type": "markdown",
   "metadata": {},
   "source": [
    "分類のモデルにはロジスティック回帰を用いる。ここで、正則化にはL1正則化を用いる。ストップワードの除去を期待できるからである。"
   ]
  },
  {
   "cell_type": "code",
   "execution_count": 13,
   "metadata": {},
   "outputs": [
    {
     "data": {
      "text/plain": [
       "LinearSVC(C=0.3, class_weight=None, dual=True, fit_intercept=True,\n     intercept_scaling=1, loss='squared_hinge', max_iter=1000,\n     multi_class='ovr', penalty='l2', random_state=None, tol=0.0001,\n     verbose=0)"
      ]
     },
     "execution_count": 13,
     "metadata": {},
     "output_type": "execute_result"
    }
   ],
   "source": [
    "from sklearn.svm import LinearSVC\n",
    "clf = LinearSVC()\n",
    "# clf = LogisticRegression(penalty='l1')\n",
    "clf.fit(X_train, y_train)"
   ]
  },
  {
   "cell_type": "markdown",
   "metadata": {},
   "source": [
    "学習が完了したら、テストデータに対して予測を行う。"
   ]
  },
  {
   "cell_type": "code",
   "execution_count": 14,
   "metadata": {},
   "outputs": [],
   "source": [
    "y_pred = clf.predict(X_test)"
   ]
  },
  {
   "cell_type": "markdown",
   "metadata": {},
   "source": [
    "最後に、予測したデータと正解データを用いて評価を行う。評価にはF1を用いる。"
   ]
  },
  {
   "cell_type": "code",
   "execution_count": 15,
   "metadata": {},
   "outputs": [
    {
     "name": "stdout",
     "output_type": "stream",
     "text": [
      "0.950418077\n"
     ]
    },
    {
     "name": "stdout",
     "output_type": "stream",
     "text": [
      "0.895926915518\n"
     ]
    },
    {
     "name": "stderr",
     "output_type": "stream",
     "text": [
      "/Users/hironsan/PycharmProjects/entitypedia/venv/lib/python3.6/site-packages/sklearn/metrics/classification.py:1135: UndefinedMetricWarning: F-score is ill-defined and being set to 0.0 in labels with no predicted samples.\n  'precision', 'predicted', average, warn_for)\n"
     ]
    }
   ],
   "source": [
    "print(f1_score(y_test, y_pred, average='micro'))\n",
    "print(f1_score(y_test, y_pred, average='macro'))"
   ]
  },
  {
   "cell_type": "markdown",
   "metadata": {},
   "source": [
    "classification_reportを用いて、各カテゴリごとの評価を表示する。"
   ]
  },
  {
   "cell_type": "code",
   "execution_count": 7,
   "metadata": {},
   "outputs": [
    {
     "name": "stdout",
     "output_type": "stream",
     "text": [
      "                                                                  precision    recall  f1-score   support\n\n                                               color/color_other      0.917     0.917     0.917        48\n                                              color/nature_color      0.667     0.667     0.667         3\n                                          disease/animal_disease      0.941     0.899     0.920        89\n                                           disease/disease_other      1.000     0.800     0.889        10\n                                               event/event_other      0.980     0.988     0.984       246\n                                   event/incident/incident_other      0.964     0.982     0.973       166\n                                              event/incident/war      0.983     0.992     0.987       633\n                             event/natural_phenomenon/earthquake      0.948     1.000     0.973        55\n                       event/natural_phenomenon/natural_disaster      1.000     0.940     0.969        67\n               event/natural_phenomenon/natural_phenomenon_other      1.000     1.000     1.000        16\n                                       event/occasion/conference      0.893     0.833     0.862        30\n                                             event/occasion/game      0.975     0.994     0.984       657\n                                   event/occasion/occation_other      0.971     0.825     0.892        40\n                               event/occasion/religious_festival      0.962     0.957     0.959       235\n        facility/archaeological_place/archaeological_place_other      0.974     0.974     0.974       419\n                           facility/archaeological_place/tumulus      0.975     0.994     0.984       156\n                                         facility/facility_other      0.755     0.771     0.763       292\n                                            facility/goe/airport      0.958     0.998     0.978       414\n                                     facility/goe/amusement_park      0.907     0.798     0.849       257\n                                           facility/goe/car_stop      0.970     0.982     0.976       560\n                                          facility/goe/goe_other      0.961     0.954     0.958       676\n                                             facility/goe/market      0.829     0.935     0.879        31\n                                             facility/goe/museum      0.917     0.891     0.904       768\n                                               facility/goe/park      0.882     0.925     0.903       322\n                                               facility/goe/port      0.949     0.969     0.959        97\n                                 facility/goe/public_institution      0.990     0.987     0.988      1174\n                                 facility/goe/research_institute      0.892     0.902     0.897       164\n                                             facility/goe/school      0.979     0.986     0.982      3329\n                                    facility/goe/sports_facility      0.953     0.984     0.968       575\n                                            facility/goe/station      0.993     0.997     0.995      2997\n                                            facility/goe/theater      0.826     0.812     0.819       181\n                                      facility/goe/worship_place      0.967     0.966     0.966      1344\n                                                facility/goe/zoo      0.871     0.725     0.791       167\n                                            facility/line/bridge      0.965     0.984     0.974       580\n                                             facility/line/canal      0.889     0.889     0.889        18\n                                        facility/line/line_other      0.913     0.913     0.913        23\n                                          facility/line/railroad      0.961     0.944     0.952       496\n                                              facility/line/road      0.993     0.993     0.993      2746\n                                            facility/line/tunnel      0.968     0.976     0.972       123\n                                  location/address/address_other      0.987     0.974     0.981        78\n                          location/astral_body/astral_body_other      0.965     0.965     0.965       226\n                              location/astral_body/constellation      0.960     1.000     0.980        24\n                                     location/astral_body/planet      1.000     0.929     0.963        99\n                                       location/astral_body/star      0.973     0.969     0.971       260\n                                  location/geological_region/bay      0.898     0.975     0.935        81\n              location/geological_region/geological_region_other      0.914     0.905     0.909       283\n                               location/geological_region/island      0.884     0.962     0.922       293\n                                 location/geological_region/lake      0.946     0.981     0.964       162\n                             location/geological_region/mountain      0.966     0.972     0.969       885\n                                location/geological_region/river      0.987     0.992     0.989       707\n                                  location/geological_region/sea      0.875     0.840     0.857        50\n                                               location/gpe/city      0.963     0.975     0.969      4961\n                                            location/gpe/country      0.925     0.943     0.934       158\n                                             location/gpe/county      0.992     0.992     0.992       126\n                                          location/gpe/gpe_other      0.000     0.000     0.000         8\n                                           location/gpe/province      0.894     0.937     0.915       701\n                                         location/location_other      0.999     0.987     0.993       693\n                              location/region/continental_region      0.944     0.630     0.756        27\n                                 location/region/domestic_region      0.985     0.925     0.954       146\n                                    location/region/region_other      0.000     0.000     0.000         0\n                                                    location/spa      0.968     0.990     0.979       302\n                                                  name/character      0.905     0.870     0.887        77\n                                                        name/god      0.925     0.906     0.915       286\n                                                 name/name_other      0.992     0.971     0.981       928\n                                                     name/person      0.959     0.982     0.970      3041\n                                         natural_object/compound      0.932     0.923     0.927       723\n                                          natural_object/element      1.000     1.000     1.000        42\n                            natural_object/living_thing/amphibia      0.947     0.982     0.964        55\n                                natural_object/living_thing/bird      0.986     0.990     0.988       485\n                                natural_object/living_thing/fish      0.963     0.990     0.976       209\n                               natural_object/living_thing/flora      0.959     0.994     0.977       902\n                              natural_object/living_thing/fungus      0.929     0.929     0.929        84\n                              natural_object/living_thing/insect      0.918     0.926     0.922       243\n                  natural_object/living_thing/living_thing_other      0.894     0.831     0.861       243\n                              natural_object/living_thing/mammal      0.947     0.972     0.959       387\n                   natural_object/living_thing/mollusc_arthropod      0.938     0.869     0.902       191\n                             natural_object/living_thing/reptile      0.991     0.986     0.989       222\n                                          natural_object/mineral      0.910     0.795     0.849       215\n                             natural_object/natural_object_other      0.900     0.818     0.857        11\n                                organization/corporation/company      0.944     0.939     0.942      2923\n                          organization/corporation/company_group      0.821     0.605     0.697        76\n                      organization/corporation/corporation_other      0.922     0.906     0.914       392\n                    organization/ethnic_group/ethnic_group_other      0.876     0.869     0.872       251\n                           organization/ethnic_group/nationality      0.000     0.000     0.000        13\n                                             organization/family      0.939     0.982     0.960       221\n                         organization/international_organization      0.897     0.839     0.867        62\n                                 organization/organization_other      0.932     0.917     0.924        60\n                     organization/political_organization/cabinet      0.964     0.946     0.955        56\n                  organization/political_organization/government      0.952     0.943     0.948       700\n                    organization/political_organization/military      0.968     0.968     0.968        94\norganization/political_organization/political_organization_other      0.884     0.897     0.891       195\n             organization/political_organization/political_party      0.966     0.951     0.958       265\n                                  organization/show_organization      0.960     0.976     0.968      1403\n        organization/sports_organization/pro_sports_organization      0.952     0.898     0.924       481\n                  organization/sports_organization/sports_league      0.909     0.794     0.847        63\n      organization/sports_organization/sports_organization_other      0.968     0.962     0.965       156\n                                           product/art/art_other      0.975     0.907     0.940        43\n                                                product/art/book      0.873     0.940     0.905      2204\n                                   product/art/broadcast_program      0.966     0.950     0.958      2941\n                                               product/art/movie      0.966     0.936     0.951      2993\n                                               product/art/music      0.987     0.989     0.988      2854\n                                             product/art/picture      0.951     0.866     0.906        67\n                                                   product/award      0.970     0.970     0.970       166\n                                                   product/class      1.000     1.000     1.000         6\n                                                product/clothing      0.960     0.906     0.932       106\n                                              product/decoration      0.966     0.966     0.966        29\n                                product/doctrine_method/academic      0.936     0.960     0.948       227\n                                 product/doctrine_method/culture      0.889     0.696     0.780        23\n                                product/doctrine_method/movement      0.865     0.882     0.874        51\n                                    product/doctrine_method/plan      0.943     0.825     0.880       120\n                                product/doctrine_method/religion      0.811     0.878     0.843        49\n                                   product/doctrine_method/sport      0.926     0.829     0.875        76\n                                   product/doctrine_method/style      0.991     0.942     0.966       120\n                                  product/doctrine_method/theory      0.958     0.836     0.893        55\n                                                    product/drug      0.863     0.852     0.857       236\n                                               product/food/dish      0.750     0.333     0.462        18\n                                         product/food/food_other      0.932     0.886     0.908       140\n                                 product/language/language_other      0.867     0.952     0.908       335\n                              product/language/national_language      0.844     0.429     0.568        63\n                                              product/money_form      1.000     0.947     0.973        38\n                                                 product/offense      1.000     0.913     0.955        23\n                                       product/printing/magazine      0.968     0.964     0.966       222\n                                      product/printing/newspaper      0.820     0.911     0.863        45\n                                                product/rule/law      0.972     0.983     0.977       419\n                                         product/rule/rule_other      1.000     0.952     0.976        21\n                                             product/rule/treaty      0.903     0.966     0.933        58\n                                 product/title/position_vocation      0.859     0.803     0.830       152\n                                       product/title/title_other      0.875     0.538     0.667        13\n                                           product/unit/currency      0.921     1.000     0.959        35\n                                         product/unit/unit_other      0.962     0.938     0.949        80\n                                        product/vehicle/aircraft      0.830     0.903     0.865       412\n                                             product/vehicle/car      0.969     0.991     0.980       543\n                                            product/vehicle/ship      0.852     0.722     0.782       496\n                                       product/vehicle/spaceship      0.937     0.868     0.901        68\n                                           product/vehicle/train      0.991     0.991     0.991       108\n                                   product/vehicle/vehicle_other      0.972     0.990     0.981       105\n                                                  product/weapon      0.905     0.898     0.902      2365\n                                                      timex/date      0.992     0.949     0.970       277\n                                               timex/day_of_week      1.000     1.000     1.000         1\n                                                       timex/era      1.000     0.971     0.985        69\n\n                                                     avg / total      0.953     0.953     0.953     64701\n\n"
     ]
    },
    {
     "name": "stderr",
     "output_type": "stream",
     "text": [
      "/Users/hironsan/PycharmProjects/entitypedia/venv/lib/python3.6/site-packages/sklearn/metrics/classification.py:1135: UndefinedMetricWarning: Precision and F-score are ill-defined and being set to 0.0 in labels with no predicted samples.\n  'precision', 'predicted', average, warn_for)\n/Users/hironsan/PycharmProjects/entitypedia/venv/lib/python3.6/site-packages/sklearn/metrics/classification.py:1137: UndefinedMetricWarning: Recall and F-score are ill-defined and being set to 0.0 in labels with no true samples.\n  'recall', 'true', average, warn_for)\n"
     ]
    }
   ],
   "source": [
    "print(classification_report(y_test, y_pred, digits=3))"
   ]
  },
  {
   "cell_type": "markdown",
   "metadata": {},
   "source": [
    "学習曲線を描くための関数を定義する"
   ]
  },
  {
   "cell_type": "code",
   "execution_count": 8,
   "metadata": {},
   "outputs": [],
   "source": [
    "import numpy as np\n",
    "import matplotlib.pyplot as plt\n",
    "from sklearn.model_selection import learning_curve\n",
    "from sklearn.model_selection import ShuffleSplit\n",
    "\n",
    "\n",
    "def plot_learning_curve(estimator, title, X, y, ylim=None, cv=None,\n",
    "                        n_jobs=-1, train_sizes=np.linspace(.1, 1.0, 5)):\n",
    "    plt.figure()\n",
    "    plt.title(title)\n",
    "    if ylim is not None:\n",
    "        plt.ylim(*ylim)\n",
    "    plt.xlabel(\"Training examples\")\n",
    "    plt.ylabel(\"Score\")\n",
    "    train_sizes, train_scores, test_scores = learning_curve(\n",
    "        estimator, X, y, cv=cv, n_jobs=n_jobs, train_sizes=train_sizes)\n",
    "    train_scores_mean = np.mean(train_scores, axis=1)\n",
    "    train_scores_std = np.std(train_scores, axis=1)\n",
    "    test_scores_mean = np.mean(test_scores, axis=1)\n",
    "    test_scores_std = np.std(test_scores, axis=1)\n",
    "    plt.grid()\n",
    "\n",
    "    plt.fill_between(train_sizes, train_scores_mean - train_scores_std,\n",
    "                     train_scores_mean + train_scores_std, alpha=0.1,\n",
    "                     color=\"r\")\n",
    "    plt.fill_between(train_sizes, test_scores_mean - test_scores_std,\n",
    "                     test_scores_mean + test_scores_std, alpha=0.1, color=\"g\")\n",
    "    plt.plot(train_sizes, train_scores_mean, 'o-', color=\"r\",\n",
    "             label=\"Training score\")\n",
    "    plt.plot(train_sizes, test_scores_mean, 'o-', color=\"g\",\n",
    "             label=\"Cross-validation score\")\n",
    "\n",
    "    plt.legend(loc=\"best\")\n",
    "\n",
    "    return plt"
   ]
  },
  {
   "cell_type": "markdown",
   "metadata": {},
   "source": [
    "実際に学習曲線を描いてみる。"
   ]
  },
  {
   "cell_type": "code",
   "execution_count": 9,
   "metadata": {},
   "outputs": [
    {
     "data": {
      "image/png": "[encoded data removed]",
      "text/plain": [
       "<matplotlib.figure.Figure at 0x1142967f0>"
      ]
     },
     "metadata": {},
     "output_type": "display_data"
    }
   ],
   "source": [
    "title = \"Learning Curves\"\n",
    "cv = ShuffleSplit(n_splits=5, test_size=0.2, random_state=0)\n",
    "estimator = LinearSVC()\n",
    "plot_learning_curve(estimator, title, X_train, y_train, cv=cv)\n",
    "\n",
    "plt.show()"
   ]
  },
  {
   "cell_type": "markdown",
   "metadata": {},
   "source": [
    "学習スコアと検証スコアに若干(1%くらい?)の差がある。"
   ]
  },
  {
   "cell_type": "code",
   "execution_count": null,
   "metadata": {},
   "outputs": [],
   "source": [
    ""
   ]
  }
 ],
 "metadata": {
  "kernelspec": {
   "display_name": "Python 3",
   "language": "python",
   "name": "python3"
  },
  "language_info": {
   "codemirror_mode": {
    "name": "ipython",
    "version": 3.0
   },
   "file_extension": ".py",
   "mimetype": "text/x-python",
   "name": "python",
   "nbconvert_exporter": "python",
   "pygments_lexer": "ipython3",
   "version": "3.6.4"
  }
 },
 "nbformat": 4,
 "nbformat_minor": 0
}