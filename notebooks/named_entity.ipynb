{
 "cells": [
  {
   "cell_type": "markdown",
   "metadata": {
    "collapsed": true
   },
   "source": [
    "まずは、データセットを読み込む。"
   ]
  },
  {
   "cell_type": "code",
   "execution_count": 1,
   "metadata": {
    "collapsed": true
   },
   "outputs": [],
   "source": [
    "def load_data_and_labels(filename):\n",
    "    sents, labels = [], []\n",
    "    with open(filename) as f:\n",
    "        words, tags = [], []\n",
    "        for line in f:\n",
    "            line = line.rstrip()\n",
    "            if len(line) == 0 or line.startswith('-DOCSTART-'):\n",
    "                if len(words) != 0:\n",
    "                    sents.append(words)\n",
    "                    labels.append(tags)\n",
    "                    words, tags = [], []\n",
    "            else:\n",
    "                word, tag = line.split('\\t')\n",
    "                words.append(word)\n",
    "                tags.append(tag)\n",
    "    return sents, labels\n",
    "\n",
    "sents, labels = load_data_and_labels('data/dataset.tsv')"
   ]
  },
  {
   "cell_type": "code",
   "execution_count": 2,
   "metadata": {},
   "outputs": [
    {
     "name": "stdout",
     "output_type": "stream",
     "text": [
      "['こ', 'の', '記', '事', 'で', 'は', '言', '語', '（', 'げ', 'ん', 'ご', '）', '、', '特', 'に', '自', '然', '言', '語', 'に', 'つ', 'い', 'て', '述', 'べ', 'る', '。']\n['O', 'O', 'O', 'O', 'O', 'O', 'O', 'O', 'O', 'O', 'O', 'O', 'O', 'O', 'O', 'O', 'B-product/language/language_other', 'I-product/language/language_other', 'I-product/language/language_other', 'I-product/language/language_other', 'O', 'O', 'O', 'O', 'O', 'O', 'O', 'O']\n"
     ]
    }
   ],
   "source": [
    "print(sents[1])\n",
    "print(labels[1])"
   ]
  },
  {
   "cell_type": "markdown",
   "metadata": {},
   "source": [
    "上記に示したように読み込んだデータセットでは文字単位でラベルがついている。今回作るベースラインでは単語単位で認識したいので、単語レベルにラベルを付け直すことにする。\n",
    "\n",
    "タスクとしては以下の通り。\n",
    "* 文字のリストを結合して文字列にする\n",
    "* 文字列を形態素解析器で解析し、分かち書きする\n",
    "* 分かち書きした単語のリストに対してラベルを付け直す。"
   ]
  },
  {
   "cell_type": "code",
   "execution_count": 3,
   "metadata": {},
   "outputs": [
    {
     "data": {
      "text/plain": [
       "'この記事では言語（げんご）、特に自然言語について述べる。'"
      ]
     },
     "execution_count": 3,
     "metadata": {},
     "output_type": "execute_result"
    }
   ],
   "source": [
    "docs = [''.join(sent) for sent in sents]\n",
    "docs[1]"
   ]
  },
  {
   "cell_type": "code",
   "execution_count": 7,
   "metadata": {},
   "outputs": [],
   "source": [
    "import MeCab\n",
    "t = MeCab.Tagger()\n",
    "\n",
    "\n",
    "def tokenize(sent):\n",
    "    tokens = []\n",
    "    t.parse('')  # for UnicodeDecodeError\n",
    "    node = t.parseToNode(sent)\n",
    "\n",
    "    while node:\n",
    "        feature = node.feature.split(',')\n",
    "        surface = node.surface    # 表層形\n",
    "        pos = feature[0]          # 品詞\n",
    "        tokens.append((surface, pos))\n",
    "        node = node.next\n",
    "\n",
    "    return tokens[1:-1]\n",
    "\n",
    "tokenized_docs = [[d[0] for d in tokenize(doc)] for doc in docs]\n",
    "poses = [[d[1] for d in tokenize(doc)] for doc in docs]\n",
    "# tokenized_docs = [tokenize(doc) for doc in docs]\n",
    "# tokenized_docs = [[d[0] for d in doc] for doc in tokenized_docs]\n",
    "# poses = [[d[1] for d in doc] for doc in tokenized_docs]\n",
    "# tokenized_docs[1]\n",
    "# poses[1]"
   ]
  },
  {
   "cell_type": "markdown",
   "metadata": {},
   "source": [
    "分かち書きまではできた。その後が面倒くさい。どうやってラベルを単語単位で付け直すか？文字と単語の対応でも取るか。\n",
    "1. 形態素を1つ取り出す\n",
    "2. 形態素を構成するラベルを文字列マッチングによって取り出す\n",
    "3. ラベルを修正する"
   ]
  },
  {
   "cell_type": "code",
   "execution_count": 10,
   "metadata": {},
   "outputs": [
    {
     "name": "stdout",
     "output_type": "stream",
     "text": [
      "この\tO\n記事\tO\nで\tO\nは\tO\n言語\tO\n（\tO\nげん\tO\nご\tO\n）\tO\n、\tO\n特に\tO\n自然\tB-product/language/language_other\n言語\tI-product/language/language_other\nについて\tO\n述べる\tO\n。\tO\n"
     ]
    }
   ],
   "source": [
    "doc = docs[1]\n",
    "i = 0\n",
    "for word in tokenized_docs[1]:\n",
    "    j = len(word)\n",
    "    print('{}\\t{}'.format(word, labels[1][i: i+j][0]))\n",
    "    i += j"
   ]
  },
  {
   "cell_type": "markdown",
   "metadata": {},
   "source": [
    "ラベルの修正でかなりいい加減な処理をしているが、ひとまずこれで良しとしよう。ではこれをすべての文書に対して行ってやる。"
   ]
  },
  {
   "cell_type": "code",
   "execution_count": 11,
   "metadata": {},
   "outputs": [
    {
     "name": "stdout",
     "output_type": "stream",
     "text": [
      "アンパサンド\tO\n(,\tO\n&)\tO\nと\tO\nは\tO\n「\tO\n…\tO\nと\tO\n…\tO\n」\tO\nを\tO\n意味\tO\nする\tO\n記号\tO\nで\tO\nある\tB-product/title/position_vocation\n。\tO\nラテン語\tO\nの\tI-product/language/language_other\nの\tI-product/language/language_other\n合\tI-product/language/language_other\n字\tO\nで\tO\n、\tO\nTrebuchet\tB-location/gpe/city\nMS\tI-product/weapon\nフォント\tI-product/weapon\nで\tI-product/weapon\nは\tO\n、\tO\nと\tO\n表示\tO\nさ\tO\nれ\tO\n\"\tO\net\tO\n\"\tO\nの\tO\n合\tO\n字\tO\nで\tO\nある\tO\nこと\tO\nが\tO\n容易\tO\nに\tO\nわかる\tO\n。\tO\nampersa\tO\n、\tO\nすなわち\tO\n\"\tO\nand\tO\nper\tO\nse\tO\nand\tO\n\"、\tO\nその\tO\n意味\tO\nは\tO\n\"\tO\nand\tO\n[\tO\nthe\tO\nsymbol\tO\nwhich\tO\n]\tO\nby\tO\nitself\tO\n[\tO\nis\tO\n]\tO\nand\tO\n\"\tO\nで\tO\nある\tO\n。\tO\n"
     ]
    }
   ],
   "source": [
    "for t_doc, label in zip(tokenized_docs, labels):\n",
    "    i = 0\n",
    "    for word in t_doc:\n",
    "        j = len(word)\n",
    "        tag = label[i: i+j][0]\n",
    "        print('{}\\t{}'.format(word, tag))\n",
    "        i += j\n",
    "    break"
   ]
  },
  {
   "cell_type": "markdown",
   "metadata": {},
   "source": [
    "むむっ、誤った対応付を行っている。原因を分析するために元の対応付を見てみる。"
   ]
  },
  {
   "cell_type": "code",
   "execution_count": 12,
   "metadata": {},
   "outputs": [
    {
     "name": "stdout",
     "output_type": "stream",
     "text": [
      "ア\tO\nン\tO\nパ\tO\nサ\tO\nン\tO\nド\tO\n \tO\n(\tO\n,\tO\n \tO\n&\tO\n)\tO\n \tO\nと\tO\nは\tO\n「\tO\n…\tO\nと\tO\n…\tO\n」\tO\nを\tO\n意\tO\n味\tO\nす\tO\nる\tO\n記\tB-product/title/position_vocation\n号\tI-product/title/position_vocation\nで\tO\nあ\tO\nる\tO\n。\tO\nラ\tB-product/language/language_other\nテ\tI-product/language/language_other\nン\tI-product/language/language_other\n語\tI-product/language/language_other\nの\tO\n \tO\nの\tO\n合\tB-location/gpe/city\n字\tI-location/gpe/city\nで\tO\n、\tO\nT\tB-product/weapon\nr\tI-product/weapon\ne\tI-product/weapon\nb\tI-product/weapon\nu\tI-product/weapon\nc\tI-product/weapon\nh\tI-product/weapon\ne\tI-product/weapon\nt\tI-product/weapon\n \tI-product/weapon\nM\tI-product/weapon\nS\tI-product/weapon\nフ\tO\nォ\tO\nン\tO\nト\tO\nで\tO\nは\tO\n、\tO\nと\tO\n表\tO\n示\tO\nさ\tO\nれ\tO\n \tO\n\"\tO\ne\tO\nt\tO\n\"\tO\n \tO\nの\tO\n合\tO\n字\tO\nで\tO\nあ\tO\nる\tO\nこ\tO\nと\tO\nが\tO\n容\tO\n易\tO\nに\tO\nわ\tO\nか\tO\nる\tO\n。\tO\na\tO\nm\tO\np\tO\ne\tO\nr\tO\ns\tO\na\tO\n、\tO\nす\tO\nな\tO\nわ\tO\nち\tO\n \tO\n\"\tO\na\tO\nn\tO\nd\tO\n \tO\np\tO\ne\tO\nr\tO\n \tO\ns\tO\ne\tO\n \tO\na\tO\nn\tO\nd\tO\n\"\tO\n、\tO\nそ\tO\nの\tO\n意\tO\n味\tO\nは\tO\n\"\tO\na\tO\nn\tO\nd\tO\n \tO\n[\tO\nt\tO\nh\tO\ne\tO\n \tO\ns\tO\ny\tO\nm\tO\nb\tO\no\tO\nl\tO\n \tO\nw\tO\nh\tO\ni\tO\nc\tO\nh\tO\n]\tO\n \tO\nb\tO\ny\tO\n \tO\ni\tO\nt\tO\ns\tO\ne\tO\nl\tO\nf\tO\n \tO\n[\tO\ni\tO\ns\tO\n]\tO\n \tO\na\tO\nn\tO\nd\tO\n\"\tO\nで\tO\nあ\tO\nる\tO\n。\tO\n"
     ]
    }
   ],
   "source": [
    "for ch, label in zip(sents[0], labels[0]):\n",
    "    print('{}\\t{}'.format(ch, label))"
   ]
  },
  {
   "cell_type": "markdown",
   "metadata": {},
   "source": [
    "どうやら元の文字列にはあった空白が形態素解析で消えたことで、対応付にずれが生じたのが原因のようだ。単純に対応付けるのではなく、単語が始まるかどうかで補正をする。"
   ]
  },
  {
   "cell_type": "code",
   "execution_count": 14,
   "metadata": {},
   "outputs": [],
   "source": [
    "tags = []\n",
    "for t_doc, doc, label in zip(tokenized_docs, docs, labels):\n",
    "    i = 0\n",
    "    doc_tags = []\n",
    "    for word in t_doc:\n",
    "        j = len(word)\n",
    "        while not doc[i:].startswith(word):  # correct\n",
    "            i += 1\n",
    "        tag = label[i: i+j][0]\n",
    "        # print('{}\\t{}'.format(word, tag))\n",
    "        doc_tags.append(tag)\n",
    "        i += j\n",
    "    tags.append(doc_tags)\n",
    "    # break"
   ]
  },
  {
   "cell_type": "code",
   "execution_count": 17,
   "metadata": {},
   "outputs": [],
   "source": [
    "sents, labels = [], []"
   ]
  },
  {
   "cell_type": "code",
   "execution_count": 33,
   "metadata": {},
   "outputs": [],
   "source": [
    "data = []\n",
    "i = 0\n",
    "for doc, poss, labels in zip(tokenized_docs, poses, tags):\n",
    "    if i == 10000:\n",
    "        break\n",
    "    data.append([(w, p, l) for w, p, l in zip(doc, poss, labels)])\n",
    "    i += 1"
   ]
  },
  {
   "cell_type": "code",
   "execution_count": 34,
   "metadata": {},
   "outputs": [
    {
     "data": {
      "text/plain": [
       "[('アンパサンド', '名詞', 'O'),\n ('(,', '名詞', 'O'),\n ('&)', '名詞', 'O'),\n ('と', '助詞', 'O'),\n ('は', '助詞', 'O'),\n ('「', '記号', 'O'),\n ('…', '記号', 'O'),\n ('と', '助詞', 'O'),\n ('…', '記号', 'O'),\n ('」', '記号', 'O'),\n ('を', '助詞', 'O'),\n ('意味', '名詞', 'O'),\n ('する', '動詞', 'O'),\n ('記号', '名詞', 'B-product/title/position_vocation'),\n ('で', '助動詞', 'O'),\n ('ある', '助動詞', 'O'),\n ('。', '記号', 'O'),\n ('ラテン語', '名詞', 'B-product/language/language_other'),\n ('の', '助詞', 'O'),\n ('の', '助詞', 'O'),\n ('合', '名詞', 'B-location/gpe/city'),\n ('字', '名詞', 'I-location/gpe/city'),\n ('で', '助詞', 'O'),\n ('、', '記号', 'O'),\n ('Trebuchet', '名詞', 'B-product/weapon'),\n ('MS', '名詞', 'I-product/weapon'),\n ('フォント', '名詞', 'O'),\n ('で', '助詞', 'O'),\n ('は', '助詞', 'O'),\n ('、', '記号', 'O'),\n ('と', '助詞', 'O'),\n ('表示', '名詞', 'O'),\n ('さ', '動詞', 'O'),\n ('れ', '動詞', 'O'),\n ('\"', '名詞', 'O'),\n ('et', '名詞', 'O'),\n ('\"', '名詞', 'O'),\n ('の', '助詞', 'O'),\n ('合', '名詞', 'O'),\n ('字', '名詞', 'O'),\n ('で', '助動詞', 'O'),\n ('ある', '助動詞', 'O'),\n ('こと', '名詞', 'O'),\n ('が', '助詞', 'O'),\n ('容易', '名詞', 'O'),\n ('に', '助詞', 'O'),\n ('わかる', '動詞', 'O'),\n ('。', '記号', 'O'),\n ('ampersa', '名詞', 'O'),\n ('、', '記号', 'O'),\n ('すなわち', '接続詞', 'O'),\n ('\"', '名詞', 'O'),\n ('and', '名詞', 'O'),\n ('per', '名詞', 'O'),\n ('se', '名詞', 'O'),\n ('and', '名詞', 'O'),\n ('\"、', '名詞', 'O'),\n ('その', '連体詞', 'O'),\n ('意味', '名詞', 'O'),\n ('は', '助詞', 'O'),\n ('\"', '名詞', 'O'),\n ('and', '名詞', 'O'),\n ('[', '名詞', 'O'),\n ('the', '名詞', 'O'),\n ('symbol', '名詞', 'O'),\n ('which', '名詞', 'O'),\n (']', '名詞', 'O'),\n ('by', '名詞', 'O'),\n ('itself', '名詞', 'O'),\n ('[', '名詞', 'O'),\n ('is', '名詞', 'O'),\n (']', '名詞', 'O'),\n ('and', '名詞', 'O'),\n ('\"', '名詞', 'O'),\n ('で', '助動詞', 'O'),\n ('ある', '助動詞', 'O'),\n ('。', '記号', 'O')]"
      ]
     },
     "execution_count": 34,
     "metadata": {},
     "output_type": "execute_result"
    }
   ],
   "source": [
    "data[0]"
   ]
  },
  {
   "cell_type": "markdown",
   "metadata": {},
   "source": [
    ""
   ]
  },
  {
   "cell_type": "code",
   "execution_count": 35,
   "metadata": {},
   "outputs": [],
   "source": [
    "def word2features(doc, i):\n",
    "    word = doc[i][0]\n",
    "    postag = doc[i][1]\n",
    "\n",
    "    # Common features for all words\n",
    "    features = [\n",
    "        'bias',\n",
    "        'word.lower=' + word.lower(),\n",
    "        'word[-3:]=' + word[-3:],\n",
    "        'word[-2:]=' + word[-2:],\n",
    "        'word.isupper=%s' % word.isupper(),\n",
    "        'word.istitle=%s' % word.istitle(),\n",
    "        'word.isdigit=%s' % word.isdigit(),\n",
    "        'postag=' + postag\n",
    "    ]\n",
    "\n",
    "    # Features for words that are not\n",
    "    # at the beginning of a document\n",
    "    if i > 0:\n",
    "        word1 = doc[i-1][0]\n",
    "        postag1 = doc[i-1][1]\n",
    "        features.extend([\n",
    "            '-1:word.lower=' + word1.lower(),\n",
    "            '-1:word.istitle=%s' % word1.istitle(),\n",
    "            '-1:word.isupper=%s' % word1.isupper(),\n",
    "            '-1:word.isdigit=%s' % word1.isdigit(),\n",
    "            '-1:postag=' + postag1\n",
    "        ])\n",
    "    else:\n",
    "        # Indicate that it is the 'beginning of a document'\n",
    "        features.append('BOS')\n",
    "\n",
    "    # Features for words that are not\n",
    "    # at the end of a document\n",
    "    if i < len(doc)-1:\n",
    "        word1 = doc[i+1][0]\n",
    "        postag1 = doc[i+1][1]\n",
    "        features.extend([\n",
    "            '+1:word.lower=' + word1.lower(),\n",
    "            '+1:word.istitle=%s' % word1.istitle(),\n",
    "            '+1:word.isupper=%s' % word1.isupper(),\n",
    "            '+1:word.isdigit=%s' % word1.isdigit(),\n",
    "            '+1:postag=' + postag1\n",
    "        ])\n",
    "    else:\n",
    "        # Indicate that it is the 'end of a document'\n",
    "        features.append('EOS')\n",
    "\n",
    "    return features"
   ]
  },
  {
   "cell_type": "code",
   "execution_count": 36,
   "metadata": {},
   "outputs": [],
   "source": [
    "from sklearn.model_selection import train_test_split\n",
    "\n",
    "# A function for extracting features in documents\n",
    "def extract_features(doc):\n",
    "    return [word2features(doc, i) for i in range(len(doc))]\n",
    "\n",
    "# A function fo generating the list of labels for each document\n",
    "def get_labels(doc):\n",
    "    return [label for (token, postag, label) in doc]\n",
    "\n",
    "X = [extract_features(doc) for doc in data]\n",
    "y = [get_labels(doc) for doc in data]\n",
    "\n",
    "X_train, X_test, y_train, y_test = train_test_split(X, y, test_size=0.2)"
   ]
  },
  {
   "cell_type": "code",
   "execution_count": 37,
   "metadata": {},
   "outputs": [
    {
     "name": "stdout",
     "output_type": "stream",
     "text": [
      "Feature generation\ntype: CRF1d\nfeature.minfreq: 0.000000\nfeature.possible_states: 0\nfeature.possible_transitions: 1\n0..."
     ]
    },
    {
     "name": "stdout",
     "output_type": "stream",
     "text": [
      ".1....2.."
     ]
    },
    {
     "name": "stdout",
     "output_type": "stream",
     "text": [
      "..3..."
     ]
    },
    {
     "name": "stdout",
     "output_type": "stream",
     "text": [
      ".4...."
     ]
    },
    {
     "name": "stdout",
     "output_type": "stream",
     "text": [
      "5....6."
     ]
    },
    {
     "name": "stdout",
     "output_type": "stream",
     "text": [
      "...7..."
     ]
    },
    {
     "name": "stdout",
     "output_type": "stream",
     "text": [
      ".8....9"
     ]
    },
    {
     "name": "stdout",
     "output_type": "stream",
     "text": [
      "....10"
     ]
    },
    {
     "name": "stdout",
     "output_type": "stream",
     "text": [
      "\nNumber of features: 300304\nSeconds required: 3.262\n"
     ]
    },
    {
     "name": "stdout",
     "output_type": "stream",
     "text": [
      "\nL-BFGS optimization\nc1: 0.100000\nc2: 0.010000\nnum_memories: 6\nmax_iterations: 200\nepsilon: 0.000010\nstop: 10\ndelta: 0.000010\nlinesearch: MoreThuente\nlinesearch.max_iterations: 20\n\n***** Iteration #1 *****\nLoss: 1255329.670059\nFeature norm: 1.000000\nError norm: 1086621.245355\nActive features: 299406\nLine search trials: 1\nLine search step: 0.000001\nSeconds required for this iteration: 137.017\n\n"
     ]
    },
    {
     "name": "stdout",
     "output_type": "stream",
     "text": [
      "***** Iteration #2 *****\nLoss: 972490.398686\nFeature norm: 3.767060\nError norm: 270077.210111\nActive features: 299136\nLine search trials: 3\nLine search step: 0.250000\nSeconds required for this iteration: 206.104\n\n***** Iteration #3 *****\nLoss: 826168.655660\nFeature norm: 3.235413\nError norm: 265801.816771\nActive features: 286386\nLine search trials: 1\nLine search step: 1.000000\nSeconds required for this iteration: 69.811\n\n***** Iteration #4 *****\nLoss: 576012.791648\nFeature norm: 2.263571\nError norm: 99251.459715\nActive features: 290478\nLine search trials: 6\nLine search step: 0.031250\nSeconds required for this iteration: 404.000\n\n***** Iteration #5 *****\nLoss: 571203.997807\nFeature norm: 2.163320\nError norm: 213328.282475\nActive features: 297367\nLine search trials: 2\nLine search step: 0.500000\nSeconds required for this iteration: 131.958\n\n"
     ]
    },
    {
     "name": "stdout",
     "output_type": "stream",
     "text": [
      "***** Iteration #6 *****\nLoss: 539565.154627\nFeature norm: 2.495464\nError norm: 50253.399666\nActive features: 297609\nLine search trials: 1\nLine search step: 1.000000\nSeconds required for this iteration: 70.410\n\n***** Iteration #7 *****\nLoss: 505613.391666\nFeature norm: 3.150976\nError norm: 42158.384273\nActive features: 298146\nLine search trials: 1\nLine search step: 1.000000\nSeconds required for this iteration: 67.569\n\n"
     ]
    },
    {
     "name": "stdout",
     "output_type": "stream",
     "text": [
      "***** Iteration #8 *****\nLoss: 440981.513386\nFeature norm: 7.573255\nError norm: 208597.683597\nActive features: 282771\nLine search trials: 1\nLine search step: 1.000000\nSeconds required for this iteration: 66.428\n\n***** Iteration #9 *****\nLoss: 416171.943560\nFeature norm: 7.344106\nError norm: 71996.312514\nActive features: 288215\nLine search trials: 2\nLine search step: 0.500000\nSeconds required for this iteration: 132.404\n\n"
     ]
    },
    {
     "name": "stdout",
     "output_type": "stream",
     "text": [
      "***** Iteration #10 *****\nLoss: 409957.831158\nFeature norm: 7.538054\nError norm: 29075.812597\nActive features: 288615\nLine search trials: 1\nLine search step: 1.000000\nSeconds required for this iteration: 67.058\n\n***** Iteration #11 *****\nLoss: 402650.456038\nFeature norm: 7.913659\nError norm: 50358.758864\nActive features: 287677\nLine search trials: 1\nLine search step: 1.000000\nSeconds required for this iteration: 66.535\n\n***** Iteration #12 *****\nLoss: 391710.869263\nFeature norm: 8.797099\nError norm: 92160.013051\nActive features: 285687\nLine search trials: 1\nLine search step: 1.000000\nSeconds required for this iteration: 65.962\n\n***** Iteration #13 *****\nLoss: 379295.233918\nFeature norm: 9.578862\nError norm: 52399.495488\nActive features: 281924\nLine search trials: 2\nLine search step: 0.500000\nSeconds required for this iteration: 132.051\n\n"
     ]
    },
    {
     "name": "stdout",
     "output_type": "stream",
     "text": [
      "***** Iteration #14 *****\nLoss: 371696.625744\nFeature norm: 10.637282\nError norm: 86970.669827\nActive features: 279034\nLine search trials: 1\nLine search step: 1.000000\nSeconds required for this iteration: 65.749\n\n***** Iteration #15 *****\nLoss: 361045.977427\nFeature norm: 11.941792\nError norm: 75955.093371\nActive features: 277693\nLine search trials: 1\nLine search step: 1.000000\nSeconds required for this iteration: 65.837\n\n***** Iteration #16 *****\nLoss: 352454.157905\nFeature norm: 12.900655\nError norm: 53150.507172\nActive features: 277155\nLine search trials: 1\nLine search step: 1.000000\nSeconds required for this iteration: 65.693\n\n***** Iteration #17 *****\nLoss: 344384.878372\nFeature norm: 14.339560\nError norm: 52850.691616\nActive features: 276515\nLine search trials: 1\nLine search step: 1.000000\nSeconds required for this iteration: 65.824\n\n***** Iteration #18 *****\nLoss: 336448.302638\nFeature norm: 15.849092\nError norm: 53195.253636\nActive features: 276215\nLine search trials: 1\nLine search step: 1.000000\nSeconds required for this iteration: 71.668\n\n"
     ]
    },
    {
     "name": "stdout",
     "output_type": "stream",
     "text": [
      "***** Iteration #19 *****\nLoss: 328400.388219\nFeature norm: 17.546635\nError norm: 66931.124957\nActive features: 275600\nLine search trials: 1\nLine search step: 1.000000\nSeconds required for this iteration: 66.996\n\n***** Iteration #20 *****\nLoss: 319296.931244\nFeature norm: 19.044240\nError norm: 27519.794232\nActive features: 275377\nLine search trials: 1\nLine search step: 1.000000\nSeconds required for this iteration: 66.071\n\n***** Iteration #21 *****\nLoss: 308871.236601\nFeature norm: 20.869392\nError norm: 34532.941629\nActive features: 274665\nLine search trials: 1\nLine search step: 1.000000\nSeconds required for this iteration: 65.888\n\n***** Iteration #22 *****\nLoss: 291471.349134\nFeature norm: 24.312358\nError norm: 30452.974247\nActive features: 272565\nLine search trials: 1\nLine search step: 1.000000\nSeconds required for this iteration: 66.033\n\n"
     ]
    },
    {
     "name": "stdout",
     "output_type": "stream",
     "text": [
      "***** Iteration #23 *****\nLoss: 274745.680628\nFeature norm: 27.502898\nError norm: 32099.441571\nActive features: 229815\nLine search trials: 1\nLine search step: 1.000000\nSeconds required for this iteration: 66.062\n\n***** Iteration #24 *****\nLoss: 259479.326580\nFeature norm: 30.615261\nError norm: 12363.350182\nActive features: 218699\nLine search trials: 1\nLine search step: 1.000000\nSeconds required for this iteration: 66.188\n\n***** Iteration #25 *****\nLoss: 244458.423501\nFeature norm: 36.773004\nError norm: 56341.396611\nActive features: 213666\nLine search trials: 1\nLine search step: 1.000000\nSeconds required for this iteration: 66.283\n\n"
     ]
    },
    {
     "name": "stdout",
     "output_type": "stream",
     "text": [
      "***** Iteration #26 *****\nLoss: 232626.357040\nFeature norm: 40.011890\nError norm: 12247.328538\nActive features: 212249\nLine search trials: 1\nLine search step: 1.000000\nSeconds required for this iteration: 66.153\n\n***** Iteration #27 *****\nLoss: 221060.647361\nFeature norm: 47.325765\nError norm: 48812.942714\nActive features: 204633\nLine search trials: 1\nLine search step: 1.000000\nSeconds required for this iteration: 66.479\n\n"
     ]
    },
    {
     "name": "stdout",
     "output_type": "stream",
     "text": [
      "***** Iteration #28 *****\nLoss: 211915.742568\nFeature norm: 50.549633\nError norm: 7996.229199\nActive features: 204323\nLine search trials: 1\nLine search step: 1.000000\nSeconds required for this iteration: 66.434\n\n***** Iteration #29 *****\nLoss: 199278.804089\nFeature norm: 59.236839\nError norm: 13208.448295\nActive features: 199767\nLine search trials: 1\nLine search step: 1.000000\nSeconds required for this iteration: 66.328\n\n***** Iteration #30 *****\nLoss: 185059.598927\nFeature norm: 71.575891\nError norm: 33447.446191\nActive features: 197005\nLine search trials: 1\nLine search step: 1.000000\nSeconds required for this iteration: 67.384\n\n"
     ]
    },
    {
     "name": "stdout",
     "output_type": "stream",
     "text": [
      "***** Iteration #31 *****\nLoss: 174299.409627\nFeature norm: 82.771869\nError norm: 26167.397290\nActive features: 197020\nLine search trials: 1\nLine search step: 1.000000\nSeconds required for this iteration: 66.178\n\n***** Iteration #32 *****\nLoss: 167311.797946\nFeature norm: 88.677568\nError norm: 5751.680887\nActive features: 198543\nLine search trials: 1\nLine search step: 1.000000\nSeconds required for this iteration: 66.367\n\n"
     ]
    },
    {
     "name": "stdout",
     "output_type": "stream",
     "text": [
      "***** Iteration #33 *****\nLoss: 155205.162703\nFeature norm: 108.530475\nError norm: 12269.768311\nActive features: 198032\nLine search trials: 1\nLine search step: 1.000000\nSeconds required for this iteration: 66.164\n\n***** Iteration #34 *****\nLoss: 152728.747565\nFeature norm: 122.325854\nError norm: 21591.423509\nActive features: 196931\nLine search trials: 1\nLine search step: 1.000000\nSeconds required for this iteration: 66.282\n\n***** Iteration #35 *****\nLoss: 146562.983998\nFeature norm: 123.846807\nError norm: 14571.799977\nActive features: 198356\nLine search trials: 2\nLine search step: 0.500000\nSeconds required for this iteration: 133.865\n\n***** Iteration #36 *****\nLoss: 141106.534435\nFeature norm: 126.534939\nError norm: 6164.916598\nActive features: 198489\nLine search trials: 1\nLine search step: 1.000000\nSeconds required for this iteration: 65.663\n\n***** Iteration #37 *****\nLoss: 137275.178191\nFeature norm: 133.773800\nError norm: 26461.196381\nActive features: 197395\nLine search trials: 1\nLine search step: 1.000000\nSeconds required for this iteration: 65.801\n\n"
     ]
    },
    {
     "name": "stdout",
     "output_type": "stream",
     "text": [
      "***** Iteration #38 *****\nLoss: 133939.919268\nFeature norm: 141.074184\nError norm: 64592.557227\nActive features: 197292\nLine search trials: 1\nLine search step: 1.000000\nSeconds required for this iteration: 65.751\n\n***** Iteration #39 *****\nLoss: 128860.670864\nFeature norm: 142.096135\nError norm: 8512.791618\nActive features: 198774\nLine search trials: 1\nLine search step: 1.000000\nSeconds required for this iteration: 66.110\n\n***** Iteration #40 *****\nLoss: 124445.135411\nFeature norm: 147.270890\nError norm: 13852.047139\nActive features: 197579\nLine search trials: 1\nLine search step: 1.000000\nSeconds required for this iteration: 65.876\n\n"
     ]
    },
    {
     "name": "stdout",
     "output_type": "stream",
     "text": [
      "***** Iteration #41 *****\nLoss: 115140.762614\nFeature norm: 163.958146\nError norm: 16866.314647\nActive features: 193954\nLine search trials: 1\nLine search step: 1.000000\nSeconds required for this iteration: 66.154\n\n***** Iteration #42 *****\nLoss: 109733.826682\nFeature norm: 172.956336\nError norm: 12641.899313\nActive features: 194045\nLine search trials: 1\nLine search step: 1.000000\nSeconds required for this iteration: 66.192\n\n***** Iteration #43 *****\nLoss: 102395.862362\nFeature norm: 187.039828\nError norm: 4781.908708\nActive features: 192797\nLine search trials: 1\nLine search step: 1.000000\nSeconds required for this iteration: 66.212\n\n"
     ]
    },
    {
     "name": "stdout",
     "output_type": "stream",
     "text": [
      "***** Iteration #44 *****\nLoss: 95236.495281\nFeature norm: 216.942309\nError norm: 39330.066120\nActive features: 189714\nLine search trials: 1\nLine search step: 1.000000\nSeconds required for this iteration: 66.128\n\n***** Iteration #45 *****\nLoss: 90824.734414\nFeature norm: 221.517732\nError norm: 4109.646222\nActive features: 190412\nLine search trials: 1\nLine search step: 1.000000\nSeconds required for this iteration: 69.027\n\n***** Iteration #46 *****\nLoss: 86591.092773\nFeature norm: 234.103256\nError norm: 20852.311426\nActive features: 187888\nLine search trials: 1\nLine search step: 1.000000\nSeconds required for this iteration: 66.159\n\n***** Iteration #47 *****\nLoss: 80502.927561\nFeature norm: 256.191269\nError norm: 10264.443327\nActive features: 186180\nLine search trials: 1\nLine search step: 1.000000\nSeconds required for this iteration: 65.971\n\n***** Iteration #48 *****\nLoss: 75136.628436\nFeature norm: 272.902264\nError norm: 6428.217701\nActive features: 184698\nLine search trials: 1\nLine search step: 1.000000\nSeconds required for this iteration: 65.865\n\n***** Iteration #49 *****\nLoss: 70050.277769\nFeature norm: 308.934809\nError norm: 35113.038190\nActive features: 181511\nLine search trials: 1\nLine search step: 1.000000\nSeconds required for this iteration: 65.795\n\n"
     ]
    },
    {
     "name": "stdout",
     "output_type": "stream",
     "text": [
      "***** Iteration #50 *****\nLoss: 65741.190539\nFeature norm: 325.435725\nError norm: 13068.107764\nActive features: 182346\nLine search trials: 1\nLine search step: 1.000000\nSeconds required for this iteration: 65.660\n\n***** Iteration #51 *****\nLoss: 63617.118551\nFeature norm: 335.677241\nError norm: 5211.909890\nActive features: 182051\nLine search trials: 1\nLine search step: 1.000000\nSeconds required for this iteration: 65.983\n\n"
     ]
    },
    {
     "name": "stdout",
     "output_type": "stream",
     "text": [
      "***** Iteration #52 *****\nLoss: 59655.162571\nFeature norm: 371.752240\nError norm: 27222.642016\nActive features: 179826\nLine search trials: 1\nLine search step: 1.000000\nSeconds required for this iteration: 67.025\n\n***** Iteration #53 *****\nLoss: 58291.214899\nFeature norm: 366.688138\nError norm: 3705.028144\nActive features: 180741\nLine search trials: 1\nLine search step: 1.000000\nSeconds required for this iteration: 66.542\n\n"
     ]
    },
    {
     "name": "stdout",
     "output_type": "stream",
     "text": [
      "***** Iteration #54 *****\nLoss: 56965.057110\nFeature norm: 376.330179\nError norm: 12105.646686\nActive features: 180429\nLine search trials: 1\nLine search step: 1.000000\nSeconds required for this iteration: 68.539\n\n***** Iteration #55 *****\nLoss: 54955.954793\nFeature norm: 389.097995\nError norm: 5000.679445\nActive features: 179568\nLine search trials: 1\nLine search step: 1.000000\nSeconds required for this iteration: 68.659\n\n"
     ]
    },
    {
     "name": "stdout",
     "output_type": "stream",
     "text": [
      "***** Iteration #56 *****\nLoss: 52741.860756\nFeature norm: 410.544907\nError norm: 4968.941057\nActive features: 177482\nLine search trials: 1\nLine search step: 1.000000\nSeconds required for this iteration: 67.211\n\n***** Iteration #57 *****\nLoss: 51474.944678\nFeature norm: 425.240441\nError norm: 3469.732040\nActive features: 175959\nLine search trials: 1\nLine search step: 1.000000\nSeconds required for this iteration: 67.183\n\n***** Iteration #58 *****\nLoss: 50307.453011\nFeature norm: 440.439725\nError norm: 4970.486058\nActive features: 173900\nLine search trials: 1\nLine search step: 1.000000\nSeconds required for this iteration: 67.120\n\n"
     ]
    },
    {
     "name": "stdout",
     "output_type": "stream",
     "text": [
      "***** Iteration #59 *****\nLoss: 49579.775294\nFeature norm: 447.520299\nError norm: 2148.701225\nActive features: 172270\nLine search trials: 1\nLine search step: 1.000000\nSeconds required for this iteration: 67.125\n\n***** Iteration #60 *****\nLoss: 48838.097497\nFeature norm: 457.362628\nError norm: 2862.233670\nActive features: 168563\nLine search trials: 1\nLine search step: 1.000000\nSeconds required for this iteration: 67.087\n\n***** Iteration #61 *****\nLoss: 48251.248010\nFeature norm: 465.529765\nError norm: 5373.643983\nActive features: 164548\nLine search trials: 1\nLine search step: 1.000000\nSeconds required for this iteration: 66.850\n\n"
     ]
    },
    {
     "name": "stdout",
     "output_type": "stream",
     "text": [
      "***** Iteration #62 *****\nLoss: 47722.781095\nFeature norm: 471.975938\nError norm: 1469.034476\nActive features: 163716\nLine search trials: 1\nLine search step: 1.000000\nSeconds required for this iteration: 67.616\n\n***** Iteration #63 *****\nLoss: 47208.601498\nFeature norm: 477.271479\nError norm: 1369.929866\nActive features: 162688\nLine search trials: 1\nLine search step: 1.000000\nSeconds required for this iteration: 73.432\n\n***** Iteration #64 *****\nLoss: 46757.232878\nFeature norm: 482.846177\nError norm: 7002.417787\nActive features: 157763\nLine search trials: 1\nLine search step: 1.000000\nSeconds required for this iteration: 67.386\n\n"
     ]
    },
    {
     "name": "stdout",
     "output_type": "stream",
     "text": [
      "***** Iteration #65 *****\nLoss: 46352.922011\nFeature norm: 485.469312\nError norm: 3024.365127\nActive features: 157278\nLine search trials: 1\nLine search step: 1.000000\nSeconds required for this iteration: 68.488\n\n***** Iteration #66 *****\nLoss: 45970.885857\nFeature norm: 490.915884\nError norm: 4650.243170\nActive features: 155931\nLine search trials: 1\nLine search step: 1.000000\nSeconds required for this iteration: 66.277\n\n***** Iteration #67 *****\nLoss: 45568.937937\nFeature norm: 494.606641\nError norm: 2391.713856\nActive features: 154296\nLine search trials: 1\nLine search step: 1.000000\nSeconds required for this iteration: 65.848\n\n"
     ]
    },
    {
     "name": "stdout",
     "output_type": "stream",
     "text": [
      "***** Iteration #68 *****\nLoss: 45202.780979\nFeature norm: 500.672777\nError norm: 5282.220394\nActive features: 151973\nLine search trials: 1\nLine search step: 1.000000\nSeconds required for this iteration: 71.412\n\n***** Iteration #69 *****\nLoss: 44881.688284\nFeature norm: 503.454132\nError norm: 2883.325770\nActive features: 149973\nLine search trials: 1\nLine search step: 1.000000\nSeconds required for this iteration: 69.856\n\n***** Iteration #70 *****\nLoss: 44581.711265\nFeature norm: 508.844773\nError norm: 4563.647554\nActive features: 146583\nLine search trials: 1\nLine search step: 1.000000\nSeconds required for this iteration: 68.113\n\n"
     ]
    },
    {
     "name": "stdout",
     "output_type": "stream",
     "text": [
      "***** Iteration #71 *****\nLoss: 44330.786398\nFeature norm: 510.968898\nError norm: 2411.831982\nActive features: 146073\nLine search trials: 1\nLine search step: 1.000000\nSeconds required for this iteration: 66.668\n\n***** Iteration #72 *****\nLoss: 44093.586343\nFeature norm: 515.067874\nError norm: 3762.165773\nActive features: 145042\nLine search trials: 1\nLine search step: 1.000000\nSeconds required for this iteration: 66.456\n\n***** Iteration #73 *****\nLoss: 43877.324554\nFeature norm: 516.835155\nError norm: 1762.722045\nActive features: 144307\nLine search trials: 1\nLine search step: 1.000000\nSeconds required for this iteration: 66.525\n\n"
     ]
    },
    {
     "name": "stdout",
     "output_type": "stream",
     "text": [
      "***** Iteration #74 *****\nLoss: 43669.689448\nFeature norm: 520.287613\nError norm: 3499.041449\nActive features: 143253\nLine search trials: 1\nLine search step: 1.000000\nSeconds required for this iteration: 65.971\n\n***** Iteration #75 *****\nLoss: 43489.221838\nFeature norm: 521.623545\nError norm: 1521.717258\nActive features: 142617\nLine search trials: 1\nLine search step: 1.000000\nSeconds required for this iteration: 66.138\n\n***** Iteration #76 *****\nLoss: 43322.021954\nFeature norm: 524.506960\nError norm: 3233.433599\nActive features: 141729\nLine search trials: 1\nLine search step: 1.000000\nSeconds required for this iteration: 67.084\n\n"
     ]
    },
    {
     "name": "stdout",
     "output_type": "stream",
     "text": [
      "***** Iteration #77 *****\nLoss: 43166.423229\nFeature norm: 525.683434\nError norm: 1323.918374\nActive features: 141078\nLine search trials: 1\nLine search step: 1.000000\nSeconds required for this iteration: 66.112\n\n***** Iteration #78 *****\nLoss: 43016.858663\nFeature norm: 528.215238\nError norm: 3010.025575\nActive features: 139620\nLine search trials: 1\nLine search step: 1.000000\nSeconds required for this iteration: 67.104\n\n"
     ]
    },
    {
     "name": "stdout",
     "output_type": "stream",
     "text": [
      "***** Iteration #79 *****\nLoss: 42875.022051\nFeature norm: 529.243422\nError norm: 1478.104278\nActive features: 139192\nLine search trials: 1\nLine search step: 1.000000\nSeconds required for this iteration: 67.177\n\n***** Iteration #80 *****\nLoss: 42745.100118\nFeature norm: 531.464757\nError norm: 2874.531587\nActive features: 138648\nLine search trials: 1\nLine search step: 1.000000\nSeconds required for this iteration: 66.196\n\n***** Iteration #81 *****\nLoss: 42624.166122\nFeature norm: 532.393691\nError norm: 1666.279750\nActive features: 138179\nLine search trials: 1\nLine search step: 1.000000\nSeconds required for this iteration: 66.127\n\n"
     ]
    },
    {
     "name": "stdout",
     "output_type": "stream",
     "text": [
      "***** Iteration #82 *****\nLoss: 42507.359446\nFeature norm: 534.520900\nError norm: 2664.488784\nActive features: 137649\nLine search trials: 1\nLine search step: 1.000000\nSeconds required for this iteration: 66.173\n\n***** Iteration #83 *****\nLoss: 42409.224663\nFeature norm: 535.265355\nError norm: 1640.050238\nActive features: 137283\nLine search trials: 1\nLine search step: 1.000000\nSeconds required for this iteration: 66.217\n\n"
     ]
    },
    {
     "name": "stdout",
     "output_type": "stream",
     "text": [
      "***** Iteration #84 *****\nLoss: 42308.464644\nFeature norm: 536.965924\nError norm: 1897.296338\nActive features: 136922\nLine search trials: 1\nLine search step: 1.000000\nSeconds required for this iteration: 70.648\n\n***** Iteration #85 *****\nLoss: 42215.472072\nFeature norm: 537.823710\nError norm: 1502.130602\nActive features: 136313\nLine search trials: 1\nLine search step: 1.000000\nSeconds required for this iteration: 66.057\n\n"
     ]
    },
    {
     "name": "stdout",
     "output_type": "stream",
     "text": [
      "***** Iteration #86 *****\nLoss: 42131.839427\nFeature norm: 539.286334\nError norm: 1988.880395\nActive features: 136011\nLine search trials: 1\nLine search step: 1.000000\nSeconds required for this iteration: 66.277\n\n"
     ]
    },
    {
     "name": "stdout",
     "output_type": "stream",
     "text": [
      "***** Iteration #87 *****\nLoss: 42056.105296\nFeature norm: 539.861145\nError norm: 1236.563860\nActive features: 135622\nLine search trials: 1\nLine search step: 1.000000\nSeconds required for this iteration: 69.933\n\n***** Iteration #88 *****\nLoss: 41981.993534\nFeature norm: 541.105075\nError norm: 1941.883799\nActive features: 135085\nLine search trials: 1\nLine search step: 1.000000\nSeconds required for this iteration: 67.482\n\n***** Iteration #89 *****\nLoss: 41917.620550\nFeature norm: 541.480574\nError norm: 1199.551754\nActive features: 134926\nLine search trials: 1\nLine search step: 1.000000\nSeconds required for this iteration: 67.744\n\n***** Iteration #90 *****\nLoss: 41852.426345\nFeature norm: 542.487137\nError norm: 1835.606097\nActive features: 134542\nLine search trials: 1\nLine search step: 1.000000\nSeconds required for this iteration: 66.123\n\n"
     ]
    },
    {
     "name": "stdout",
     "output_type": "stream",
     "text": [
      "***** Iteration #91 *****\nLoss: 41796.278986\nFeature norm: 542.790320\nError norm: 1347.192474\nActive features: 134157\nLine search trials: 1\nLine search step: 1.000000\nSeconds required for this iteration: 66.162\n\n***** Iteration #92 *****\nLoss: 41741.551494\nFeature norm: 543.596721\nError norm: 1309.152898\nActive features: 133833\nLine search trials: 1\nLine search step: 1.000000\nSeconds required for this iteration: 66.131\n\n***** Iteration #93 *****\nLoss: 41692.173474\nFeature norm: 543.878061\nError norm: 974.490876\nActive features: 133524\nLine search trials: 1\nLine search step: 1.000000\nSeconds required for this iteration: 66.326\n\n***** Iteration #94 *****\nLoss: 41642.466420\nFeature norm: 544.561291\nError norm: 1445.629883\nActive features: 133159\nLine search trials: 1\nLine search step: 1.000000\nSeconds required for this iteration: 66.279\n\n"
     ]
    },
    {
     "name": "stdout",
     "output_type": "stream",
     "text": [
      "***** Iteration #95 *****\nLoss: 41599.954195\nFeature norm: 544.729383\nError norm: 1108.303185\nActive features: 132929\nLine search trials: 1\nLine search step: 1.000000\nSeconds required for this iteration: 65.713\n\n***** Iteration #96 *****\nLoss: 41555.107071\nFeature norm: 545.356475\nError norm: 1271.482923\nActive features: 132620\nLine search trials: 1\nLine search step: 1.000000\nSeconds required for this iteration: 65.888\n\n"
     ]
    },
    {
     "name": "stdout",
     "output_type": "stream",
     "text": [
      "***** Iteration #97 *****\nLoss: 41511.756573\nFeature norm: 545.593204\nError norm: 1011.164370\nActive features: 132239\nLine search trials: 1\nLine search step: 1.000000\nSeconds required for this iteration: 66.147\n\n***** Iteration #98 *****\nLoss: 41473.465775\nFeature norm: 546.273992\nError norm: 1676.145559\nActive features: 132021\nLine search trials: 1\nLine search step: 1.000000\nSeconds required for this iteration: 68.653\n\n***** Iteration #99 *****\nLoss: 41437.380340\nFeature norm: 546.453752\nError norm: 1183.117191\nActive features: 131752\nLine search trials: 1\nLine search step: 1.000000\nSeconds required for this iteration: 68.321\n\n***** Iteration #100 *****\nLoss: 41400.914840\nFeature norm: 547.172393\nError norm: 1566.112508\nActive features: 131507\nLine search trials: 1\nLine search step: 1.000000\nSeconds required for this iteration: 66.547\n\n***** Iteration #101 *****\nLoss: 41366.184541\nFeature norm: 547.405072\nError norm: 1498.539475\nActive features: 131203\nLine search trials: 1\nLine search step: 1.000000\nSeconds required for this iteration: 66.733\n\n"
     ]
    },
    {
     "name": "stdout",
     "output_type": "stream",
     "text": [
      "***** Iteration #102 *****\nLoss: 41333.787397\nFeature norm: 548.096482\nError norm: 1548.099123\nActive features: 131064\nLine search trials: 1\nLine search step: 1.000000\nSeconds required for this iteration: 66.265\n\n***** Iteration #103 *****\nLoss: 41302.729428\nFeature norm: 548.269635\nError norm: 1168.596641\nActive features: 130866\nLine search trials: 1\nLine search step: 1.000000\nSeconds required for this iteration: 66.112\n\n"
     ]
    },
    {
     "name": "stdout",
     "output_type": "stream",
     "text": [
      "***** Iteration #104 *****\nLoss: 41270.869053\nFeature norm: 548.873013\nError norm: 1412.258969\nActive features: 130764\nLine search trials: 1\nLine search step: 1.000000\nSeconds required for this iteration: 66.151\n\n***** Iteration #105 *****\nLoss: 41240.590799\nFeature norm: 549.003963\nError norm: 1315.551027\nActive features: 130529\nLine search trials: 1\nLine search step: 1.000000\nSeconds required for this iteration: 66.240\n\n"
     ]
    },
    {
     "name": "stdout",
     "output_type": "stream",
     "text": [
      "***** Iteration #106 *****\nLoss: 41212.082593\nFeature norm: 549.604941\nError norm: 1475.180833\nActive features: 130396\nLine search trials: 1\nLine search step: 1.000000\nSeconds required for this iteration: 66.235\n\n***** Iteration #107 *****\nLoss: 41184.855992\nFeature norm: 549.700902\nError norm: 1035.784518\nActive features: 130254\nLine search trials: 1\nLine search step: 1.000000\nSeconds required for this iteration: 66.418\n\n"
     ]
    },
    {
     "name": "stdout",
     "output_type": "stream",
     "text": [
      "***** Iteration #108 *****\nLoss: 41156.921915\nFeature norm: 550.137683\nError norm: 1031.359931\nActive features: 130110\nLine search trials: 1\nLine search step: 1.000000\nSeconds required for this iteration: 65.897\n\n***** Iteration #109 *****\nLoss: 41130.977604\nFeature norm: 550.249536\nError norm: 1102.843195\nActive features: 129947\nLine search trials: 1\nLine search step: 1.000000\nSeconds required for this iteration: 66.128\n\n"
     ]
    },
    {
     "name": "stdout",
     "output_type": "stream",
     "text": [
      "***** Iteration #110 *****\nLoss: 41106.121082\nFeature norm: 550.643354\nError norm: 1031.751014\nActive features: 129849\nLine search trials: 1\nLine search step: 1.000000\nSeconds required for this iteration: 66.132\n\n***** Iteration #111 *****\nLoss: 41081.420411\nFeature norm: 550.672710\nError norm: 913.741787\nActive features: 129559\nLine search trials: 1\nLine search step: 1.000000\nSeconds required for this iteration: 66.271\n\n***** Iteration #112 *****\nLoss: 41056.081168\nFeature norm: 550.976961\nError norm: 1036.466638\nActive features: 129325\nLine search trials: 1\nLine search step: 1.000000\nSeconds required for this iteration: 71.386\n\n"
     ]
    },
    {
     "name": "stdout",
     "output_type": "stream",
     "text": [
      "***** Iteration #113 *****\nLoss: 41034.674157\nFeature norm: 550.914704\nError norm: 1055.603741\nActive features: 129093\nLine search trials: 1\nLine search step: 1.000000\nSeconds required for this iteration: 70.035\n\n***** Iteration #114 *****\nLoss: 41012.299308\nFeature norm: 551.104461\nError norm: 718.636622\nActive features: 128894\nLine search trials: 1\nLine search step: 1.000000\nSeconds required for this iteration: 67.110\n\n"
     ]
    },
    {
     "name": "stdout",
     "output_type": "stream",
     "text": [
      "***** Iteration #115 *****\nLoss: 40988.602800\nFeature norm: 550.996420\nError norm: 806.212417\nActive features: 128585\nLine search trials: 1\nLine search step: 1.000000\nSeconds required for this iteration: 67.204\n\n***** Iteration #116 *****\nLoss: 40966.206151\nFeature norm: 551.152826\nError norm: 931.857808\nActive features: 128348\nLine search trials: 1\nLine search step: 1.000000\nSeconds required for this iteration: 67.309\n\n"
     ]
    },
    {
     "name": "stdout",
     "output_type": "stream",
     "text": [
      "***** Iteration #117 *****\nLoss: 40946.022179\nFeature norm: 551.017174\nError norm: 740.779717\nActive features: 128128\nLine search trials: 1\nLine search step: 1.000000\nSeconds required for this iteration: 68.661\n\n"
     ]
    },
    {
     "name": "stdout",
     "output_type": "stream",
     "text": [
      "***** Iteration #118 *****\nLoss: 40924.050051\nFeature norm: 551.138588\nError norm: 854.427414\nActive features: 127887\nLine search trials: 1\nLine search step: 1.000000\nSeconds required for this iteration: 70.389\n\n***** Iteration #119 *****\nLoss: 40903.141207\nFeature norm: 550.995103\nError norm: 978.279300\nActive features: 127656\nLine search trials: 1\nLine search step: 1.000000\nSeconds required for this iteration: 69.426\n\n"
     ]
    },
    {
     "name": "stdout",
     "output_type": "stream",
     "text": [
      "***** Iteration #120 *****\nLoss: 40883.054212\nFeature norm: 551.191500\nError norm: 939.953624\nActive features: 127548\nLine search trials: 1\nLine search step: 1.000000\nSeconds required for this iteration: 68.124\n\n"
     ]
    },
    {
     "name": "stdout",
     "output_type": "stream",
     "text": [
      "***** Iteration #121 *****\nLoss: 40863.806279\nFeature norm: 551.074788\nError norm: 884.634851\nActive features: 127297\nLine search trials: 1\nLine search step: 1.000000\nSeconds required for this iteration: 69.449\n\n***** Iteration #122 *****\nLoss: 40843.564344\nFeature norm: 551.307498\nError norm: 1018.103243\nActive features: 127135\nLine search trials: 1\nLine search step: 1.000000\nSeconds required for this iteration: 66.060\n\n"
     ]
    },
    {
     "name": "stdout",
     "output_type": "stream",
     "text": [
      "***** Iteration #123 *****\nLoss: 40824.774231\nFeature norm: 551.189640\nError norm: 845.184222\nActive features: 126901\nLine search trials: 1\nLine search step: 1.000000\nSeconds required for this iteration: 67.239\n\n"
     ]
    },
    {
     "name": "stdout",
     "output_type": "stream",
     "text": [
      "***** Iteration #124 *****\nLoss: 40806.111587\nFeature norm: 551.438153\nError norm: 978.271196\nActive features: 126766\nLine search trials: 1\nLine search step: 1.000000\nSeconds required for this iteration: 69.392\n\n***** Iteration #125 *****\nLoss: 40787.734688\nFeature norm: 551.353797\nError norm: 757.502836\nActive features: 126543\nLine search trials: 1\nLine search step: 1.000000\nSeconds required for this iteration: 69.899\n\n***** Iteration #126 *****\nLoss: 40769.989251\nFeature norm: 551.628857\nError norm: 1082.477750\nActive features: 126440\nLine search trials: 1\nLine search step: 1.000000\nSeconds required for this iteration: 67.021\n\n***** Iteration #127 *****\nLoss: 40753.292392\nFeature norm: 551.578974\nError norm: 871.042075\nActive features: 126325\nLine search trials: 1\nLine search step: 1.000000\nSeconds required for this iteration: 70.463\n\n"
     ]
    },
    {
     "name": "stdout",
     "output_type": "stream",
     "text": [
      "***** Iteration #128 *****\nLoss: 40736.625196\nFeature norm: 551.889359\nError norm: 1060.420796\nActive features: 126246\nLine search trials: 1\nLine search step: 1.000000\nSeconds required for this iteration: 69.703\n\n***** Iteration #129 *****\nLoss: 40720.170123\nFeature norm: 551.847355\nError norm: 810.397290\nActive features: 126049\nLine search trials: 1\nLine search step: 1.000000\nSeconds required for this iteration: 70.588\n\n***** Iteration #130 *****\nLoss: 40703.314524\nFeature norm: 552.179913\nError norm: 1064.158144\nActive features: 125932\nLine search trials: 1\nLine search step: 1.000000\nSeconds required for this iteration: 72.354\n\n"
     ]
    },
    {
     "name": "stdout",
     "output_type": "stream",
     "text": [
      "***** Iteration #131 *****\nLoss: 40687.627562\nFeature norm: 552.120901\nError norm: 842.403184\nActive features: 125767\nLine search trials: 1\nLine search step: 1.000000\nSeconds required for this iteration: 70.860\n\n***** Iteration #132 *****\nLoss: 40673.110701\nFeature norm: 552.447616\nError norm: 1067.329060\nActive features: 125644\nLine search trials: 1\nLine search step: 1.000000\nSeconds required for this iteration: 74.703\n\n***** Iteration #133 *****\nLoss: 40659.106907\nFeature norm: 552.373491\nError norm: 851.147097\nActive features: 125478\nLine search trials: 1\nLine search step: 1.000000\nSeconds required for this iteration: 72.695\n\n"
     ]
    },
    {
     "name": "stdout",
     "output_type": "stream",
     "text": [
      "***** Iteration #134 *****\nLoss: 40645.877779\nFeature norm: 552.693693\nError norm: 1219.272060\nActive features: 125354\nLine search trials: 1\nLine search step: 1.000000\nSeconds required for this iteration: 69.984\n\n***** Iteration #135 *****\nLoss: 40633.547288\nFeature norm: 552.616634\nError norm: 1017.389689\nActive features: 125151\nLine search trials: 1\nLine search step: 1.000000\nSeconds required for this iteration: 71.766\n\n***** Iteration #136 *****\nLoss: 40621.424641\nFeature norm: 552.945429\nError norm: 1018.060328\nActive features: 125156\nLine search trials: 1\nLine search step: 1.000000\nSeconds required for this iteration: 70.178\n\n***** Iteration #137 *****\nLoss: 40609.584060\nFeature norm: 552.871699\nError norm: 883.389265\nActive features: 125009\nLine search trials: 1\nLine search step: 1.000000\nSeconds required for this iteration: 71.111\n\n"
     ]
    },
    {
     "name": "stdout",
     "output_type": "stream",
     "text": [
      "***** Iteration #138 *****\nLoss: 40597.092755\nFeature norm: 553.148722\nError norm: 969.013071\nActive features: 124894\nLine search trials: 1\nLine search step: 1.000000\nSeconds required for this iteration: 69.668\n\n"
     ]
    },
    {
     "name": "stdout",
     "output_type": "stream",
     "text": [
      "***** Iteration #139 *****\nLoss: 40585.417714\nFeature norm: 553.059114\nError norm: 1063.438424\nActive features: 124718\nLine search trials: 1\nLine search step: 1.000000\nSeconds required for this iteration: 68.218\n\n***** Iteration #140 *****\nLoss: 40573.852517\nFeature norm: 553.377104\nError norm: 1078.240121\nActive features: 124688\nLine search trials: 1\nLine search step: 1.000000\nSeconds required for this iteration: 68.687\n\n***** Iteration #141 *****\nLoss: 40563.421495\nFeature norm: 553.273029\nError norm: 983.977809\nActive features: 124561\nLine search trials: 1\nLine search step: 1.000000\nSeconds required for this iteration: 67.432\n\n"
     ]
    },
    {
     "name": "stdout",
     "output_type": "stream",
     "text": [
      "***** Iteration #142 *****\nLoss: 40552.203401\nFeature norm: 553.563861\nError norm: 853.701371\nActive features: 124510\nLine search trials: 1\nLine search step: 1.000000\nSeconds required for this iteration: 67.436\n\n"
     ]
    },
    {
     "name": "stdout",
     "output_type": "stream",
     "text": [
      "***** Iteration #143 *****\nLoss: 40541.868036\nFeature norm: 553.481462\nError norm: 984.208019\nActive features: 124368\nLine search trials: 1\nLine search step: 1.000000\nSeconds required for this iteration: 68.657\n\n***** Iteration #144 *****\nLoss: 40531.036459\nFeature norm: 553.781177\nError norm: 941.127427\nActive features: 124385\nLine search trials: 1\nLine search step: 1.000000\nSeconds required for this iteration: 73.613\n\n***** Iteration #145 *****\nLoss: 40521.969128\nFeature norm: 553.671692\nError norm: 1083.064439\nActive features: 124244\nLine search trials: 1\nLine search step: 1.000000\nSeconds required for this iteration: 71.937\n\n***** Iteration #146 *****\nLoss: 40512.027172\nFeature norm: 553.961201\nError norm: 740.525221\nActive features: 124260\nLine search trials: 1\nLine search step: 1.000000\nSeconds required for this iteration: 73.160\n\n"
     ]
    },
    {
     "name": "stdout",
     "output_type": "stream",
     "text": [
      "***** Iteration #147 *****\nLoss: 40502.867795\nFeature norm: 553.883175\nError norm: 841.934389\nActive features: 124093\nLine search trials: 1\nLine search step: 1.000000\nSeconds required for this iteration: 67.138\n\n***** Iteration #148 *****\nLoss: 40493.005044\nFeature norm: 554.162302\nError norm: 925.092738\nActive features: 124044\nLine search trials: 1\nLine search step: 1.000000\nSeconds required for this iteration: 69.087\n\n"
     ]
    },
    {
     "name": "stdout",
     "output_type": "stream",
     "text": [
      "***** Iteration #149 *****\nLoss: 40484.659099\nFeature norm: 554.062016\nError norm: 1105.597661\nActive features: 123948\nLine search trials: 1\nLine search step: 1.000000\nSeconds required for this iteration: 70.712\n\n***** Iteration #150 *****\nLoss: 40475.405489\nFeature norm: 554.361373\nError norm: 906.966606\nActive features: 123985\nLine search trials: 1\nLine search step: 1.000000\nSeconds required for this iteration: 69.702\n\n"
     ]
    },
    {
     "name": "stdout",
     "output_type": "stream",
     "text": [
      "***** Iteration #151 *****\nLoss: 40467.833559\nFeature norm: 554.249002\nError norm: 987.115119\nActive features: 123812\nLine search trials: 1\nLine search step: 1.000000\nSeconds required for this iteration: 67.399\n\n"
     ]
    },
    {
     "name": "stdout",
     "output_type": "stream",
     "text": [
      "***** Iteration #152 *****\nLoss: 40459.446946\nFeature norm: 554.484676\nError norm: 755.054679\nActive features: 123740\nLine search trials: 1\nLine search step: 1.000000\nSeconds required for this iteration: 68.207\n\n***** Iteration #153 *****\nLoss: 40452.192836\nFeature norm: 554.379024\nError norm: 1037.742894\nActive features: 123526\nLine search trials: 1\nLine search step: 1.000000\nSeconds required for this iteration: 68.743\n\n***** Iteration #154 *****\nLoss: 40444.173221\nFeature norm: 554.643249\nError norm: 875.032486\nActive features: 123544\nLine search trials: 1\nLine search step: 1.000000\nSeconds required for this iteration: 85.129\n\n***** Iteration #155 *****\nLoss: 40437.259672\nFeature norm: 554.511079\nError norm: 1008.926575\nActive features: 123401\nLine search trials: 1\nLine search step: 1.000000\nSeconds required for this iteration: 110.015\n\n"
     ]
    },
    {
     "name": "stdout",
     "output_type": "stream",
     "text": [
      "***** Iteration #156 *****\nLoss: 40429.584875\nFeature norm: 554.743250\nError norm: 751.589486\nActive features: 123384\nLine search trials: 1\nLine search step: 1.000000\nSeconds required for this iteration: 81.506\n\n***** Iteration #157 *****\nLoss: 40423.189977\nFeature norm: 554.628223\nError norm: 1006.349237\nActive features: 123222\nLine search trials: 1\nLine search step: 1.000000\nSeconds required for this iteration: 70.703\n\n***** Iteration #158 *****\nLoss: 40416.190873\nFeature norm: 554.884621\nError norm: 885.887459\nActive features: 123180\nLine search trials: 1\nLine search step: 1.000000\nSeconds required for this iteration: 71.301\n\n***** Iteration #159 *****\nLoss: 40410.536351\nFeature norm: 554.769834\nError norm: 1052.398055\nActive features: 123065\nLine search trials: 1\nLine search step: 1.000000\nSeconds required for this iteration: 69.118\n\n"
     ]
    },
    {
     "name": "stdout",
     "output_type": "stream",
     "text": [
      "***** Iteration #160 *****\nLoss: 40403.753362\nFeature norm: 555.022429\nError norm: 778.282611\nActive features: 123085\nLine search trials: 1\nLine search step: 1.000000\nSeconds required for this iteration: 70.693\n\n***** Iteration #161 *****\nLoss: 40398.229103\nFeature norm: 554.936125\nError norm: 910.480038\nActive features: 122994\nLine search trials: 1\nLine search step: 1.000000\nSeconds required for this iteration: 67.893\n\n***** Iteration #162 *****\nLoss: 40391.794686\nFeature norm: 555.172530\nError norm: 858.070736\nActive features: 122945\nLine search trials: 1\nLine search step: 1.000000\nSeconds required for this iteration: 67.115\n\n***** Iteration #163 *****\nLoss: 40386.806370\nFeature norm: 555.072138\nError norm: 1094.444052\nActive features: 122821\nLine search trials: 1\nLine search step: 1.000000\nSeconds required for this iteration: 68.092\n\n"
     ]
    },
    {
     "name": "stdout",
     "output_type": "stream",
     "text": [
      "***** Iteration #164 *****\nLoss: 40380.526243\nFeature norm: 555.359449\nError norm: 954.036988\nActive features: 122870\nLine search trials: 1\nLine search step: 1.000000\nSeconds required for this iteration: 66.848\n\n***** Iteration #165 *****\nLoss: 40375.525589\nFeature norm: 555.259239\nError norm: 977.453779\nActive features: 122807\nLine search trials: 1\nLine search step: 1.000000\nSeconds required for this iteration: 66.997\n\n***** Iteration #166 *****\nLoss: 40369.912767\nFeature norm: 555.510719\nError norm: 835.871627\nActive features: 122778\nLine search trials: 1\nLine search step: 1.000000\nSeconds required for this iteration: 66.131\n\n***** Iteration #167 *****\nLoss: 40364.945734\nFeature norm: 555.435434\nError norm: 924.678554\nActive features: 122665\nLine search trials: 1\nLine search step: 1.000000\nSeconds required for this iteration: 66.099\n\n***** Iteration #168 *****\nLoss: 40359.683725\nFeature norm: 555.711409\nError norm: 1058.685343\nActive features: 122606\nLine search trials: 1\nLine search step: 1.000000\nSeconds required for this iteration: 66.032\n\n***** Iteration #169 *****\nLoss: 40354.879433\nFeature norm: 555.610828\nError norm: 1083.775322\nActive features: 122509\nLine search trials: 1\nLine search step: 1.000000\nSeconds required for this iteration: 66.114\n\n***** Iteration #170 *****\nLoss: 40349.630976\nFeature norm: 555.908728\nError norm: 1017.062624\nActive features: 122500\nLine search trials: 1\nLine search step: 1.000000\nSeconds required for this iteration: 66.005\n\n***** Iteration #171 *****\nLoss: 40344.727495\nFeature norm: 555.825486\nError norm: 897.774833\nActive features: 122378\nLine search trials: 1\nLine search step: 1.000000\nSeconds required for this iteration: 66.068\n\n***** Iteration #172 *****\nLoss: 40339.670994\nFeature norm: 556.077079\nError norm: 927.903013\nActive features: 122330\nLine search trials: 1\nLine search step: 1.000000\nSeconds required for this iteration: 66.066\n\n***** Iteration #173 *****\nLoss: 40335.351553\nFeature norm: 555.997774\nError norm: 1135.352824\nActive features: 122209\nLine search trials: 1\nLine search step: 1.000000\nSeconds required for this iteration: 66.150\n\n"
     ]
    },
    {
     "name": "stdout",
     "output_type": "stream",
     "text": [
      "***** Iteration #174 *****\nLoss: 40330.870550\nFeature norm: 556.320271\nError norm: 1208.778104\nActive features: 122217\nLine search trials: 1\nLine search step: 1.000000\nSeconds required for this iteration: 66.022\n\n***** Iteration #175 *****\nLoss: 40325.737085\nFeature norm: 556.214770\nError norm: 967.193539\nActive features: 122168\nLine search trials: 1\nLine search step: 1.000000\nSeconds required for this iteration: 66.000\n\n***** Iteration #176 *****\nLoss: 40321.178177\nFeature norm: 556.461823\nError norm: 938.967868\nActive features: 122115\nLine search trials: 1\nLine search step: 1.000000\nSeconds required for this iteration: 66.038\n\n***** Iteration #177 *****\nLoss: 40316.901305\nFeature norm: 556.396439\nError norm: 927.761755\nActive features: 122056\nLine search trials: 1\nLine search step: 1.000000\nSeconds required for this iteration: 66.045\n\n***** Iteration #178 *****\nLoss: 40313.302373\nFeature norm: 556.665474\nError norm: 1209.892097\nActive features: 121995\nLine search trials: 1\nLine search step: 1.000000\nSeconds required for this iteration: 65.907\n\n"
     ]
    },
    {
     "name": "stdout",
     "output_type": "stream",
     "text": [
      "***** Iteration #179 *****\nLoss: 40308.684609\nFeature norm: 556.576503\nError norm: 972.471624\nActive features: 121928\nLine search trials: 1\nLine search step: 1.000000\nSeconds required for this iteration: 66.320\n\n***** Iteration #180 *****\nLoss: 40304.986638\nFeature norm: 556.841925\nError norm: 1114.009836\nActive features: 121922\nLine search trials: 1\nLine search step: 1.000000\nSeconds required for this iteration: 65.976\n\n***** Iteration #181 *****\nLoss: 40300.684235\nFeature norm: 556.767631\nError norm: 846.253690\nActive features: 121922\nLine search trials: 1\nLine search step: 1.000000\nSeconds required for this iteration: 66.043\n\n***** Iteration #182 *****\nLoss: 40297.327585\nFeature norm: 557.007652\nError norm: 1116.420316\nActive features: 121931\nLine search trials: 1\nLine search step: 1.000000\nSeconds required for this iteration: 66.239\n\n***** Iteration #183 *****\nLoss: 40293.554367\nFeature norm: 556.929661\nError norm: 943.749752\nActive features: 121873\nLine search trials: 1\nLine search step: 1.000000\nSeconds required for this iteration: 65.976\n\n"
     ]
    },
    {
     "name": "stdout",
     "output_type": "stream",
     "text": [
      "***** Iteration #184 *****\nLoss: 40290.661764\nFeature norm: 557.198645\nError norm: 1236.575770\nActive features: 121858\nLine search trials: 1\nLine search step: 1.000000\nSeconds required for this iteration: 65.854\n\n***** Iteration #185 *****\nLoss: 40286.331139\nFeature norm: 557.125377\nError norm: 805.746290\nActive features: 121796\nLine search trials: 1\nLine search step: 1.000000\nSeconds required for this iteration: 65.975\n\n***** Iteration #186 *****\nLoss: 40283.487334\nFeature norm: 557.360049\nError norm: 1106.105787\nActive features: 121778\nLine search trials: 1\nLine search step: 1.000000\nSeconds required for this iteration: 65.965\n\n***** Iteration #187 *****\nLoss: 40279.641983\nFeature norm: 557.310632\nError norm: 798.674181\nActive features: 121713\nLine search trials: 1\nLine search step: 1.000000\nSeconds required for this iteration: 66.033\n\n"
     ]
    },
    {
     "name": "stdout",
     "output_type": "stream",
     "text": [
      "***** Iteration #188 *****\nLoss: 40277.390213\nFeature norm: 557.559201\nError norm: 1235.159311\nActive features: 121746\nLine search trials: 1\nLine search step: 1.000000\nSeconds required for this iteration: 66.347\n\n***** Iteration #189 *****\nLoss: 40273.199321\nFeature norm: 557.508567\nError norm: 775.009735\nActive features: 121665\nLine search trials: 1\nLine search step: 1.000000\nSeconds required for this iteration: 71.446\n\n"
     ]
    },
    {
     "name": "stdout",
     "output_type": "stream",
     "text": [
      "***** Iteration #190 *****\nLoss: 40270.996716\nFeature norm: 557.737941\nError norm: 1174.757836\nActive features: 121670\nLine search trials: 1\nLine search step: 1.000000\nSeconds required for this iteration: 66.882\n\n***** Iteration #191 *****\nLoss: 40267.090580\nFeature norm: 557.696107\nError norm: 744.527540\nActive features: 121589\nLine search trials: 1\nLine search step: 1.000000\nSeconds required for this iteration: 64.864\n\n"
     ]
    },
    {
     "name": "stdout",
     "output_type": "stream",
     "text": [
      "***** Iteration #192 *****\nLoss: 40265.055674\nFeature norm: 557.918780\nError norm: 1161.531909\nActive features: 121569\nLine search trials: 1\nLine search step: 1.000000\nSeconds required for this iteration: 64.832\n\n***** Iteration #193 *****\nLoss: 40261.215526\nFeature norm: 557.880683\nError norm: 726.395578\nActive features: 121469\nLine search trials: 1\nLine search step: 1.000000\nSeconds required for this iteration: 64.691\n\n"
     ]
    },
    {
     "name": "stdout",
     "output_type": "stream",
     "text": [
      "***** Iteration #194 *****\nLoss: 40259.572596\nFeature norm: 558.100369\nError norm: 1210.283378\nActive features: 121451\nLine search trials: 1\nLine search step: 1.000000\nSeconds required for this iteration: 64.756\n\n***** Iteration #195 *****\nLoss: 40255.693393\nFeature norm: 558.066390\nError norm: 700.428679\nActive features: 121362\nLine search trials: 1\nLine search step: 1.000000\nSeconds required for this iteration: 64.896\n\n***** Iteration #196 *****\nLoss: 40253.965972\nFeature norm: 558.279325\nError norm: 1156.868899\nActive features: 121397\nLine search trials: 1\nLine search step: 1.000000\nSeconds required for this iteration: 66.614\n\n"
     ]
    },
    {
     "name": "stdout",
     "output_type": "stream",
     "text": [
      "***** Iteration #197 *****\nLoss: 40250.354119\nFeature norm: 558.250999\nError norm: 635.150206\nActive features: 121380\nLine search trials: 1\nLine search step: 1.000000\nSeconds required for this iteration: 66.798\n\n***** Iteration #198 *****\nLoss: 40248.634020\nFeature norm: 558.448835\nError norm: 1138.731480\nActive features: 121392\nLine search trials: 1\nLine search step: 1.000000\nSeconds required for this iteration: 66.352\n\n***** Iteration #199 *****\nLoss: 40245.225468\nFeature norm: 558.420683\nError norm: 654.932772\nActive features: 121390\nLine search trials: 1\nLine search step: 1.000000\nSeconds required for this iteration: 64.875\n\n***** Iteration #200 *****\nLoss: 40244.075596\nFeature norm: 558.618250\nError norm: 1242.795022\nActive features: 121397\nLine search trials: 1\nLine search step: 1.000000\nSeconds required for this iteration: 65.151\n\n"
     ]
    },
    {
     "name": "stdout",
     "output_type": "stream",
     "text": [
      "L-BFGS terminated with the maximum number of iterations\nTotal seconds required for training: 14360.192\n\nStoring the model\nNumber of active features: 121397 (300304)\nNumber of active attributes: 53181 (138631)\nNumber of active labels: 274 (274)\nWriting labels\nWriting attributes\nWriting feature references for transitions\nWriting feature references for attributes\nSeconds required: 0.332\n\n"
     ]
    }
   ],
   "source": [
    "import pycrfsuite\n",
    "trainer = pycrfsuite.Trainer(verbose=True)\n",
    "\n",
    "# Submit training data to the trainer\n",
    "for xseq, yseq in zip(X_train, y_train):\n",
    "    trainer.append(xseq, yseq)\n",
    "\n",
    "# Set the parameters of the model\n",
    "trainer.set_params({\n",
    "    # coefficient for L1 penalty\n",
    "    'c1': 0.1,\n",
    "\n",
    "    # coefficient for L2 penalty\n",
    "    'c2': 0.01,  \n",
    "\n",
    "    # maximum number of iterations\n",
    "    'max_iterations': 200,\n",
    "\n",
    "    # whether to include transitions that\n",
    "    # are possible, but not observed\n",
    "    'feature.possible_transitions': True\n",
    "})\n",
    "\n",
    "# Provide a file name as a parameter to the train function, such that\n",
    "# the model will be saved to the file when training is finished\n",
    "trainer.train('crf.model')"
   ]
  },
  {
   "cell_type": "code",
   "execution_count": 38,
   "metadata": {},
   "outputs": [
    {
     "name": "stdout",
     "output_type": "stream",
     "text": [
      "小池田\tO\nマヤ\tO\n（\tO\nこ\tO\nいけ\tO\nだ\tO\nま\tO\nや\tO\n、\tO\n1969\tB-timex/date\n年\tI-timex/date\n5\tB-timex/date\n月\tI-timex/date\n4\tI-timex/date\n日\tI-timex/date\n-\tO\n）\tO\nは\tO\n、\tO\n日本\tB-location/gpe/country\nの\tO\n漫画\tB-product/art/book\n家\tI-product/art/book\n。\tO\n山口\tB-location/gpe/province\n県\tI-location/gpe/province\n光\tB-location/gpe/city\n市\tI-location/gpe/city\n虹\tB-location/gpe/city\nヶ\tI-location/gpe/city\n丘\tI-location/gpe/city\n生まれ\tO\n、\tO\n大阪\tB-location/gpe/province\n府\tI-location/gpe/province\n出身\tO\n。\tO\n京都市立芸術大学\tO\n版画\tO\n科\tO\n卒業\tO\n。\tO\n女性\tO\n。\tO\n"
     ]
    }
   ],
   "source": [
    "tagger = pycrfsuite.Tagger()\n",
    "tagger.open('crf.model')\n",
    "y_pred = [tagger.tag(xseq) for xseq in X_test]\n",
    "\n",
    "# Let's take a look at a random sample in the testing set\n",
    "i = 12\n",
    "for x, y in zip(y_pred[i], [x[1].split(\"=\")[1] for x in X_test[i]]):\n",
    "    print('{}\\t{}'.format(y, x))"
   ]
  },
  {
   "cell_type": "code",
   "execution_count": 39,
   "metadata": {},
   "outputs": [
    {
     "data": {
      "text/plain": [
       "0.6474437410225035"
      ]
     },
     "execution_count": 39,
     "metadata": {},
     "output_type": "execute_result"
    }
   ],
   "source": [
    "def get_entities(seq):\n",
    "    \"\"\"Gets entities from sequence.\n",
    "    Args:\n",
    "        seq (list): sequence of labels.\n",
    "    Returns:\n",
    "        list: list of (chunk_type, chunk_start, chunk_end).\n",
    "    Example:\n",
    "        >>> seq = ['B-PER', 'I-PER', 'O', 'B-LOC']\n",
    "        >>> print(get_entities(seq))\n",
    "        [('PER', 0, 2), ('LOC', 3, 4)]\n",
    "    \"\"\"\n",
    "    i = 0\n",
    "    chunks = []\n",
    "    seq = seq + ['O']  # add sentinel\n",
    "    types = [tag.split('-')[-1] for tag in seq]\n",
    "    while i < len(seq):\n",
    "        if seq[i].startswith('B'):\n",
    "            for j in range(i+1, len(seq)):\n",
    "                if seq[j].startswith('I') and types[j] == types[i]:\n",
    "                    continue\n",
    "                break\n",
    "            chunks.append((types[i], i, j))\n",
    "            i = j\n",
    "        else:\n",
    "            i += 1\n",
    "    return chunks\n",
    "\n",
    "\n",
    "def f1_score(y_true, y_pred, sequence_lengths):\n",
    "    \"\"\"Evaluates f1 score.\n",
    "    Args:\n",
    "        y_true (list): true labels.\n",
    "        y_pred (list): predicted labels.\n",
    "        sequence_lengths (list): sequence lengths.\n",
    "    Returns:\n",
    "        float: f1 score.\n",
    "    Example:\n",
    "        >>> y_true = []\n",
    "        >>> y_pred = []\n",
    "        >>> sequence_lengths = []\n",
    "        >>> print(f1_score(y_true, y_pred, sequence_lengths))\n",
    "        0.8\n",
    "    \"\"\"\n",
    "    correct_preds, total_correct, total_preds = 0., 0., 0.\n",
    "    for lab, lab_pred, length in zip(y_true, y_pred, sequence_lengths):\n",
    "        lab = lab[:length]\n",
    "        lab_pred = lab_pred[:length]\n",
    "\n",
    "        lab_chunks = set(get_entities(lab))\n",
    "        lab_pred_chunks = set(get_entities(lab_pred))\n",
    "\n",
    "        correct_preds += len(lab_chunks & lab_pred_chunks)\n",
    "        total_preds += len(lab_pred_chunks)\n",
    "        total_correct += len(lab_chunks)\n",
    "\n",
    "    p = correct_preds / total_preds if correct_preds > 0 else 0\n",
    "    r = correct_preds / total_correct if correct_preds > 0 else 0\n",
    "    f1 = 2 * p * r / (p + r) if correct_preds > 0 else 0\n",
    "    return f1\n",
    "\n",
    "lengths = [len(y) for y in y_test]\n",
    "f1_score(y_test, y_pred, lengths)"
   ]
  },
  {
   "cell_type": "code",
   "execution_count": 40,
   "metadata": {},
   "outputs": [
    {
     "data": {
      "text/plain": [
       "1078768"
      ]
     },
     "execution_count": 40,
     "metadata": {},
     "output_type": "execute_result"
    }
   ],
   "source": [
    "len(tokenized_docs)"
   ]
  },
  {
   "cell_type": "code",
   "execution_count": null,
   "metadata": {},
   "outputs": [],
   "source": [
    ""
   ]
  }
 ],
 "metadata": {
  "kernelspec": {
   "display_name": "Python 2",
   "language": "python",
   "name": "python2"
  },
  "language_info": {
   "codemirror_mode": {
    "name": "ipython",
    "version": 2.0
   },
   "file_extension": ".py",
   "mimetype": "text/x-python",
   "name": "python",
   "nbconvert_exporter": "python",
   "pygments_lexer": "ipython2",
   "version": "2.7.6"
  }
 },
 "nbformat": 4,
 "nbformat_minor": 0
}