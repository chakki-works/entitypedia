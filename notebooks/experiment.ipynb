{
 "cells": [
  {
   "cell_type": "code",
   "execution_count": 1,
   "metadata": {
    "collapsed": true
   },
   "outputs": [],
   "source": [
    "import ahocorasick"
   ]
  },
  {
   "cell_type": "code",
   "execution_count": 2,
   "metadata": {},
   "outputs": [],
   "source": [
    "A = ahocorasick.Automaton()\n",
    "for idx, key in enumerate('he her hers she'.split()):\n",
    "    A.add_word(key, (idx, key))"
   ]
  },
  {
   "cell_type": "code",
   "execution_count": 3,
   "metadata": {},
   "outputs": [
    {
     "name": "stdout",
     "output_type": "stream",
     "text": [
      "True\nFalse\n"
     ]
    }
   ],
   "source": [
    "print('he' in A)\n",
    "print('HER' in A)"
   ]
  },
  {
   "cell_type": "code",
   "execution_count": 12,
   "metadata": {},
   "outputs": [
    {
     "name": "stdout",
     "output_type": "stream",
     "text": [
      "cash\nshew\new\n"
     ]
    }
   ],
   "source": [
    "A = ahocorasick.Automaton()\n",
    "words = ['cash', 'shew', 'ew']\n",
    "for i, w in enumerate(words):\n",
    "    A.add_word(w, (i, w))\n",
    "text = \"cashew\"\n",
    "A.make_automaton()\n",
    "for idx, (_, w) in A.iter(text):\n",
    "    r = idx + 1\n",
    "    l = r - len(w)\n",
    "    print(text[l:r])"
   ]
  },
  {
   "cell_type": "code",
   "execution_count": 29,
   "metadata": {},
   "outputs": [
    {
     "name": "stdout",
     "output_type": "stream",
     "text": [
      "Add words...\n"
     ]
    },
    {
     "name": "stdout",
     "output_type": "stream",
     "text": [
      "num of word: 157540\nMake automaton...\n"
     ]
    }
   ],
   "source": [
    "import os, glob, csv\n",
    "\n",
    "DATA_DIR = './data/raw/seeds'\n",
    "files = glob.glob(os.path.join(DATA_DIR, '**/*.csv'), recursive=True)\n",
    "A = ahocorasick.Automaton()\n",
    "print('Add words...')\n",
    "i = 0\n",
    "for file in files:\n",
    "    idx = file.index('seeds/')\n",
    "    entity_type = file[idx+len('seeds/'):][:-4]  # cut '.csv'\n",
    "    with open(file) as f:\n",
    "        reader = csv.reader(f)\n",
    "        for line in reader:\n",
    "            try:\n",
    "                word, url, page_id, image_url, abst = line\n",
    "                A.add_word(word, (i, word))\n",
    "                i += 1\n",
    "            except ValueError:\n",
    "                print('Error line is: {}'.format(line))\n",
    "print('num of word: {}'.format(i))\n",
    "print('Make automaton...')                \n",
    "A.make_automaton()"
   ]
  },
  {
   "cell_type": "code",
   "execution_count": 30,
   "metadata": {},
   "outputs": [
    {
     "name": "stdout",
     "output_type": "stream",
     "text": [
      "0-5: 2007年\n6-10: 安倍晋三\n"
     ]
    }
   ],
   "source": [
    "text = '2007年に安倍晋三首相が総理大臣を辞任した。'\n",
    "#text = '米国でＩＴ（情報技術）・インターネットバブルが膨らみ始めた1998年末。自社の株価低迷をぼやくソニーの出井伸之社長（当時）に、ソフトバンクの孫正義社長がこう助言した。「簡単ですよ。社名をソニー・ドット・コムに変えて本社を西海岸に移せば、株価はうんと跳ね上がりますよ」。'\n",
    "#text = '日本銀行が16日に公表した9月末の銀行カードローン残高は５兆7717億円で前年比で7.2％増えた。伸び率は３四半期続けて下がった。多重債務問題を受け、全国地方銀行協会が過剰融資の抑制に向け3月に自主規制を申し合わせたことが影響したとみられる。'\n",
    "for idx, (_, w) in A.iter(text):\n",
    "    r = idx + 1\n",
    "    l = r - len(w)\n",
    "    print(\"{}-{}: {}\".format(l, r, text[l:r]))"
   ]
  },
  {
   "cell_type": "code",
   "execution_count": null,
   "metadata": {},
   "outputs": [],
   "source": [
    ""
   ]
  }
 ],
 "metadata": {
  "kernelspec": {
   "display_name": "Python 2",
   "language": "python",
   "name": "python2"
  },
  "language_info": {
   "codemirror_mode": {
    "name": "ipython",
    "version": 2
   },
   "file_extension": ".py",
   "mimetype": "text/x-python",
   "name": "python",
   "nbconvert_exporter": "python",
   "pygments_lexer": "ipython2",
   "version": "2.7.6"
  }
 },
 "nbformat": 4,
 "nbformat_minor": 0
}
